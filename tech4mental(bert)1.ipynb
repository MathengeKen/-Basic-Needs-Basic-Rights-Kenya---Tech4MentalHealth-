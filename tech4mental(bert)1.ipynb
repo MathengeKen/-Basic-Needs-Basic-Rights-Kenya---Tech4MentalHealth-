{
  "nbformat": 4,
  "nbformat_minor": 0,
  "metadata": {
    "colab": {
      "name": "tech4mental(bert)1",
      "provenance": [],
      "collapsed_sections": [],
      "authorship_tag": "ABX9TyO1rA/OslYD2/e7EVebr/KJ",
      "include_colab_link": true
    },
    "kernelspec": {
      "name": "python3",
      "display_name": "Python 3"
    },
    "widgets": {
      "application/vnd.jupyter.widget-state+json": {
        "6ef1cc3ea36648109d025e5fb2847ddb": {
          "model_module": "@jupyter-widgets/controls",
          "model_name": "HBoxModel",
          "state": {
            "_view_name": "HBoxView",
            "_dom_classes": [],
            "_model_name": "HBoxModel",
            "_view_module": "@jupyter-widgets/controls",
            "_model_module_version": "1.5.0",
            "_view_count": null,
            "_view_module_version": "1.5.0",
            "box_style": "",
            "layout": "IPY_MODEL_354176c2805e4a03b7a4722d9761e460",
            "_model_module": "@jupyter-widgets/controls",
            "children": [
              "IPY_MODEL_db617f5975d249d4bc5ddaf7b7b0020a",
              "IPY_MODEL_d3697dc6033a4fc896c14f61a429a655"
            ]
          }
        },
        "354176c2805e4a03b7a4722d9761e460": {
          "model_module": "@jupyter-widgets/base",
          "model_name": "LayoutModel",
          "state": {
            "_view_name": "LayoutView",
            "grid_template_rows": null,
            "right": null,
            "justify_content": null,
            "_view_module": "@jupyter-widgets/base",
            "overflow": null,
            "_model_module_version": "1.2.0",
            "_view_count": null,
            "flex_flow": null,
            "width": null,
            "min_width": null,
            "border": null,
            "align_items": null,
            "bottom": null,
            "_model_module": "@jupyter-widgets/base",
            "top": null,
            "grid_column": null,
            "overflow_y": null,
            "overflow_x": null,
            "grid_auto_flow": null,
            "grid_area": null,
            "grid_template_columns": null,
            "flex": null,
            "_model_name": "LayoutModel",
            "justify_items": null,
            "grid_row": null,
            "max_height": null,
            "align_content": null,
            "visibility": null,
            "align_self": null,
            "height": null,
            "min_height": null,
            "padding": null,
            "grid_auto_rows": null,
            "grid_gap": null,
            "max_width": null,
            "order": null,
            "_view_module_version": "1.2.0",
            "grid_template_areas": null,
            "object_position": null,
            "object_fit": null,
            "grid_auto_columns": null,
            "margin": null,
            "display": null,
            "left": null
          }
        },
        "db617f5975d249d4bc5ddaf7b7b0020a": {
          "model_module": "@jupyter-widgets/controls",
          "model_name": "FloatProgressModel",
          "state": {
            "_view_name": "ProgressView",
            "style": "IPY_MODEL_093a319c77e64906b5482a1bf92b0ba3",
            "_dom_classes": [],
            "description": "Downloading: 100%",
            "_model_name": "FloatProgressModel",
            "bar_style": "success",
            "max": 433,
            "_view_module": "@jupyter-widgets/controls",
            "_model_module_version": "1.5.0",
            "value": 433,
            "_view_count": null,
            "_view_module_version": "1.5.0",
            "orientation": "horizontal",
            "min": 0,
            "description_tooltip": null,
            "_model_module": "@jupyter-widgets/controls",
            "layout": "IPY_MODEL_1183720bd522403f8170fe2c9209d832"
          }
        },
        "d3697dc6033a4fc896c14f61a429a655": {
          "model_module": "@jupyter-widgets/controls",
          "model_name": "HTMLModel",
          "state": {
            "_view_name": "HTMLView",
            "style": "IPY_MODEL_16dc223d52a1498cad085043220bd91d",
            "_dom_classes": [],
            "description": "",
            "_model_name": "HTMLModel",
            "placeholder": "​",
            "_view_module": "@jupyter-widgets/controls",
            "_model_module_version": "1.5.0",
            "value": " 433/433 [00:26&lt;00:00, 16.4B/s]",
            "_view_count": null,
            "_view_module_version": "1.5.0",
            "description_tooltip": null,
            "_model_module": "@jupyter-widgets/controls",
            "layout": "IPY_MODEL_be7c72c173284ee8883c311a31624b36"
          }
        },
        "093a319c77e64906b5482a1bf92b0ba3": {
          "model_module": "@jupyter-widgets/controls",
          "model_name": "ProgressStyleModel",
          "state": {
            "_view_name": "StyleView",
            "_model_name": "ProgressStyleModel",
            "description_width": "initial",
            "_view_module": "@jupyter-widgets/base",
            "_model_module_version": "1.5.0",
            "_view_count": null,
            "_view_module_version": "1.2.0",
            "bar_color": null,
            "_model_module": "@jupyter-widgets/controls"
          }
        },
        "1183720bd522403f8170fe2c9209d832": {
          "model_module": "@jupyter-widgets/base",
          "model_name": "LayoutModel",
          "state": {
            "_view_name": "LayoutView",
            "grid_template_rows": null,
            "right": null,
            "justify_content": null,
            "_view_module": "@jupyter-widgets/base",
            "overflow": null,
            "_model_module_version": "1.2.0",
            "_view_count": null,
            "flex_flow": null,
            "width": null,
            "min_width": null,
            "border": null,
            "align_items": null,
            "bottom": null,
            "_model_module": "@jupyter-widgets/base",
            "top": null,
            "grid_column": null,
            "overflow_y": null,
            "overflow_x": null,
            "grid_auto_flow": null,
            "grid_area": null,
            "grid_template_columns": null,
            "flex": null,
            "_model_name": "LayoutModel",
            "justify_items": null,
            "grid_row": null,
            "max_height": null,
            "align_content": null,
            "visibility": null,
            "align_self": null,
            "height": null,
            "min_height": null,
            "padding": null,
            "grid_auto_rows": null,
            "grid_gap": null,
            "max_width": null,
            "order": null,
            "_view_module_version": "1.2.0",
            "grid_template_areas": null,
            "object_position": null,
            "object_fit": null,
            "grid_auto_columns": null,
            "margin": null,
            "display": null,
            "left": null
          }
        },
        "16dc223d52a1498cad085043220bd91d": {
          "model_module": "@jupyter-widgets/controls",
          "model_name": "DescriptionStyleModel",
          "state": {
            "_view_name": "StyleView",
            "_model_name": "DescriptionStyleModel",
            "description_width": "",
            "_view_module": "@jupyter-widgets/base",
            "_model_module_version": "1.5.0",
            "_view_count": null,
            "_view_module_version": "1.2.0",
            "_model_module": "@jupyter-widgets/controls"
          }
        },
        "be7c72c173284ee8883c311a31624b36": {
          "model_module": "@jupyter-widgets/base",
          "model_name": "LayoutModel",
          "state": {
            "_view_name": "LayoutView",
            "grid_template_rows": null,
            "right": null,
            "justify_content": null,
            "_view_module": "@jupyter-widgets/base",
            "overflow": null,
            "_model_module_version": "1.2.0",
            "_view_count": null,
            "flex_flow": null,
            "width": null,
            "min_width": null,
            "border": null,
            "align_items": null,
            "bottom": null,
            "_model_module": "@jupyter-widgets/base",
            "top": null,
            "grid_column": null,
            "overflow_y": null,
            "overflow_x": null,
            "grid_auto_flow": null,
            "grid_area": null,
            "grid_template_columns": null,
            "flex": null,
            "_model_name": "LayoutModel",
            "justify_items": null,
            "grid_row": null,
            "max_height": null,
            "align_content": null,
            "visibility": null,
            "align_self": null,
            "height": null,
            "min_height": null,
            "padding": null,
            "grid_auto_rows": null,
            "grid_gap": null,
            "max_width": null,
            "order": null,
            "_view_module_version": "1.2.0",
            "grid_template_areas": null,
            "object_position": null,
            "object_fit": null,
            "grid_auto_columns": null,
            "margin": null,
            "display": null,
            "left": null
          }
        },
        "853d22e0e49a4c5491ebc65f7929d2c4": {
          "model_module": "@jupyter-widgets/controls",
          "model_name": "HBoxModel",
          "state": {
            "_view_name": "HBoxView",
            "_dom_classes": [],
            "_model_name": "HBoxModel",
            "_view_module": "@jupyter-widgets/controls",
            "_model_module_version": "1.5.0",
            "_view_count": null,
            "_view_module_version": "1.5.0",
            "box_style": "",
            "layout": "IPY_MODEL_efb72438e1bc4d98a81136582d2e5f98",
            "_model_module": "@jupyter-widgets/controls",
            "children": [
              "IPY_MODEL_c4bf70917eae44e5a85ea1527469ff47",
              "IPY_MODEL_a1fd122437754355a7b472379480d3bb"
            ]
          }
        },
        "efb72438e1bc4d98a81136582d2e5f98": {
          "model_module": "@jupyter-widgets/base",
          "model_name": "LayoutModel",
          "state": {
            "_view_name": "LayoutView",
            "grid_template_rows": null,
            "right": null,
            "justify_content": null,
            "_view_module": "@jupyter-widgets/base",
            "overflow": null,
            "_model_module_version": "1.2.0",
            "_view_count": null,
            "flex_flow": null,
            "width": null,
            "min_width": null,
            "border": null,
            "align_items": null,
            "bottom": null,
            "_model_module": "@jupyter-widgets/base",
            "top": null,
            "grid_column": null,
            "overflow_y": null,
            "overflow_x": null,
            "grid_auto_flow": null,
            "grid_area": null,
            "grid_template_columns": null,
            "flex": null,
            "_model_name": "LayoutModel",
            "justify_items": null,
            "grid_row": null,
            "max_height": null,
            "align_content": null,
            "visibility": null,
            "align_self": null,
            "height": null,
            "min_height": null,
            "padding": null,
            "grid_auto_rows": null,
            "grid_gap": null,
            "max_width": null,
            "order": null,
            "_view_module_version": "1.2.0",
            "grid_template_areas": null,
            "object_position": null,
            "object_fit": null,
            "grid_auto_columns": null,
            "margin": null,
            "display": null,
            "left": null
          }
        },
        "c4bf70917eae44e5a85ea1527469ff47": {
          "model_module": "@jupyter-widgets/controls",
          "model_name": "FloatProgressModel",
          "state": {
            "_view_name": "ProgressView",
            "style": "IPY_MODEL_bf4683c26295444080e126148e685e6b",
            "_dom_classes": [],
            "description": "Downloading: 100%",
            "_model_name": "FloatProgressModel",
            "bar_style": "success",
            "max": 435779157,
            "_view_module": "@jupyter-widgets/controls",
            "_model_module_version": "1.5.0",
            "value": 435779157,
            "_view_count": null,
            "_view_module_version": "1.5.0",
            "orientation": "horizontal",
            "min": 0,
            "description_tooltip": null,
            "_model_module": "@jupyter-widgets/controls",
            "layout": "IPY_MODEL_70d1da62c3cc48fc8568540eca2730da"
          }
        },
        "a1fd122437754355a7b472379480d3bb": {
          "model_module": "@jupyter-widgets/controls",
          "model_name": "HTMLModel",
          "state": {
            "_view_name": "HTMLView",
            "style": "IPY_MODEL_594b302a6d26443ebb99b28f5ecee5f8",
            "_dom_classes": [],
            "description": "",
            "_model_name": "HTMLModel",
            "placeholder": "​",
            "_view_module": "@jupyter-widgets/controls",
            "_model_module_version": "1.5.0",
            "value": " 436M/436M [00:10&lt;00:00, 43.5MB/s]",
            "_view_count": null,
            "_view_module_version": "1.5.0",
            "description_tooltip": null,
            "_model_module": "@jupyter-widgets/controls",
            "layout": "IPY_MODEL_96cd566390a44eca94e76df63bf43885"
          }
        },
        "bf4683c26295444080e126148e685e6b": {
          "model_module": "@jupyter-widgets/controls",
          "model_name": "ProgressStyleModel",
          "state": {
            "_view_name": "StyleView",
            "_model_name": "ProgressStyleModel",
            "description_width": "initial",
            "_view_module": "@jupyter-widgets/base",
            "_model_module_version": "1.5.0",
            "_view_count": null,
            "_view_module_version": "1.2.0",
            "bar_color": null,
            "_model_module": "@jupyter-widgets/controls"
          }
        },
        "70d1da62c3cc48fc8568540eca2730da": {
          "model_module": "@jupyter-widgets/base",
          "model_name": "LayoutModel",
          "state": {
            "_view_name": "LayoutView",
            "grid_template_rows": null,
            "right": null,
            "justify_content": null,
            "_view_module": "@jupyter-widgets/base",
            "overflow": null,
            "_model_module_version": "1.2.0",
            "_view_count": null,
            "flex_flow": null,
            "width": null,
            "min_width": null,
            "border": null,
            "align_items": null,
            "bottom": null,
            "_model_module": "@jupyter-widgets/base",
            "top": null,
            "grid_column": null,
            "overflow_y": null,
            "overflow_x": null,
            "grid_auto_flow": null,
            "grid_area": null,
            "grid_template_columns": null,
            "flex": null,
            "_model_name": "LayoutModel",
            "justify_items": null,
            "grid_row": null,
            "max_height": null,
            "align_content": null,
            "visibility": null,
            "align_self": null,
            "height": null,
            "min_height": null,
            "padding": null,
            "grid_auto_rows": null,
            "grid_gap": null,
            "max_width": null,
            "order": null,
            "_view_module_version": "1.2.0",
            "grid_template_areas": null,
            "object_position": null,
            "object_fit": null,
            "grid_auto_columns": null,
            "margin": null,
            "display": null,
            "left": null
          }
        },
        "594b302a6d26443ebb99b28f5ecee5f8": {
          "model_module": "@jupyter-widgets/controls",
          "model_name": "DescriptionStyleModel",
          "state": {
            "_view_name": "StyleView",
            "_model_name": "DescriptionStyleModel",
            "description_width": "",
            "_view_module": "@jupyter-widgets/base",
            "_model_module_version": "1.5.0",
            "_view_count": null,
            "_view_module_version": "1.2.0",
            "_model_module": "@jupyter-widgets/controls"
          }
        },
        "96cd566390a44eca94e76df63bf43885": {
          "model_module": "@jupyter-widgets/base",
          "model_name": "LayoutModel",
          "state": {
            "_view_name": "LayoutView",
            "grid_template_rows": null,
            "right": null,
            "justify_content": null,
            "_view_module": "@jupyter-widgets/base",
            "overflow": null,
            "_model_module_version": "1.2.0",
            "_view_count": null,
            "flex_flow": null,
            "width": null,
            "min_width": null,
            "border": null,
            "align_items": null,
            "bottom": null,
            "_model_module": "@jupyter-widgets/base",
            "top": null,
            "grid_column": null,
            "overflow_y": null,
            "overflow_x": null,
            "grid_auto_flow": null,
            "grid_area": null,
            "grid_template_columns": null,
            "flex": null,
            "_model_name": "LayoutModel",
            "justify_items": null,
            "grid_row": null,
            "max_height": null,
            "align_content": null,
            "visibility": null,
            "align_self": null,
            "height": null,
            "min_height": null,
            "padding": null,
            "grid_auto_rows": null,
            "grid_gap": null,
            "max_width": null,
            "order": null,
            "_view_module_version": "1.2.0",
            "grid_template_areas": null,
            "object_position": null,
            "object_fit": null,
            "grid_auto_columns": null,
            "margin": null,
            "display": null,
            "left": null
          }
        }
      }
    },
    "accelerator": "GPU"
  },
  "cells": [
    {
      "cell_type": "markdown",
      "metadata": {
        "id": "view-in-github",
        "colab_type": "text"
      },
      "source": [
        "<a href=\"https://colab.research.google.com/github/MathengeKen/-Basic-Needs-Basic-Rights-Kenya---Tech4MentalHealth-/blob/master/tech4mental(bert)1.ipynb\" target=\"_parent\"><img src=\"https://colab.research.google.com/assets/colab-badge.svg\" alt=\"Open In Colab\"/></a>"
      ]
    },
    {
      "cell_type": "code",
      "metadata": {
        "id": "YS8x1mx-LRps",
        "colab_type": "code",
        "colab": {}
      },
      "source": [
        "!pip -q install transformers"
      ],
      "execution_count": 1,
      "outputs": []
    },
    {
      "cell_type": "code",
      "metadata": {
        "id": "HLvmhXtILhUc",
        "colab_type": "code",
        "colab": {}
      },
      "source": [
        "import torch \n",
        "from transformers import BertTokenizer,BertModel,get_linear_schedule_with_warmup\n",
        "import transformers \n",
        "import torch\n",
        "import torch.nn as nn \n",
        "import pandas as pd \n",
        "import numpy as np \n",
        "from sklearn import model_selection\n",
        "from sklearn import metrics\n",
        "from transformers import AdamW\n",
        "from sklearn.model_selection import StratifiedKFold\n",
        "import os \n",
        "import random"
      ],
      "execution_count": 2,
      "outputs": []
    },
    {
      "cell_type": "code",
      "metadata": {
        "id": "K_uoKbJfLkUV",
        "colab_type": "code",
        "colab": {}
      },
      "source": [
        "import torch\n",
        "\n",
        "if torch.cuda.is_available():\n",
        "  device = torch.device(\"cuda\")\n",
        "else:\n",
        "  device = torch.device(\"cpu\")"
      ],
      "execution_count": 3,
      "outputs": []
    },
    {
      "cell_type": "code",
      "metadata": {
        "id": "sJeQw2o-L45V",
        "colab_type": "code",
        "colab": {}
      },
      "source": [
        "CONFIG = {\n",
        "    'MAX_LEN':128,\n",
        "    'TRAIN_BATCH_SIZE':16,\n",
        "    'VALID_BATCH_SIZE':16,\n",
        "    'EPOCHS':3,\n",
        "    'TOKENIZER':BertTokenizer.from_pretrained('bert-base-cased',lowercase=True,truncation=True)\n",
        "}"
      ],
      "execution_count": 4,
      "outputs": []
    },
    {
      "cell_type": "code",
      "metadata": {
        "id": "Oh9PhGk3MEir",
        "colab_type": "code",
        "colab": {}
      },
      "source": [
        "import random\n",
        "from random import randint\n",
        "import numpy as np\n",
        "SEED_VAL  = 1000\n",
        "# Set the seed value all over the place to make this reproducible.\n",
        "def seed_all(SEED):\n",
        "  random.seed(SEED_VAL)\n",
        "  np.random.seed(SEED_VAL)\n",
        "  torch.manual_seed(SEED_VAL)\n",
        "  torch.cuda.manual_seed_all(SEED_VAL)\n",
        "  os.environ['PYTHONHASHSEED'] = str(SEED_VAL)\n",
        "  torch.backends.cudnn.deterministic = True"
      ],
      "execution_count": 5,
      "outputs": []
    },
    {
      "cell_type": "code",
      "metadata": {
        "id": "XDs2Uq8JMIYH",
        "colab_type": "code",
        "colab": {}
      },
      "source": [
        "class CustomBert(nn.Module):\n",
        "  def __init__(self, n_classes):\n",
        "    super(CustomBert, self).__init__()\n",
        "    self.bert = BertModel.from_pretrained('bert-base-cased')\n",
        "    self.drop = nn.Dropout(p=0.3)\n",
        "    self.out = nn.Linear(self.bert.config.hidden_size, n_classes)\n",
        "\n",
        "  def forward(self, input_ids, attention_mask):\n",
        "    _, pooled_output = self.bert(\n",
        "        input_ids = input_ids,\n",
        "        attention_mask = attention_mask\n",
        "    )\n",
        "\n",
        "    output = self.drop(pooled_output)\n",
        "    return self.out(output)"
      ],
      "execution_count": 6,
      "outputs": []
    },
    {
      "cell_type": "code",
      "metadata": {
        "id": "Y4JpguGVML5D",
        "colab_type": "code",
        "colab": {}
      },
      "source": [
        "class BertDataset:\n",
        "  def __init__(self,tweet,target=None,task='train'):\n",
        "    self.tweet= tweet\n",
        "    self.target = target\n",
        "    self.tokenizer = CONFIG['TOKENIZER']\n",
        "    self.max_len = CONFIG['MAX_LEN']\n",
        "    self.task = task\n",
        "  \n",
        "  def __len__(self):\n",
        "    return len(self.tweet)\n",
        "\n",
        "  def __getitem__(self,item):\n",
        "    tweet = str(self.tweet[item])\n",
        "    tweet = ' '.join(tweet.split())\n",
        "\n",
        "\n",
        "    inputs = self.tokenizer.encode_plus(tweet,\n",
        "                                        max_length=self.max_len,\n",
        "                                        pad_to_max_length=True,\n",
        "                                        add_special_tokens=True,\n",
        "                                        truncation=True)\n",
        "    ids = inputs['input_ids']\n",
        "    mask = inputs['attention_mask']\n",
        "    \n",
        "\n",
        "\n",
        "    to_return= {\n",
        "        'ids':torch.tensor(ids,dtype=torch.long),\n",
        "        'mask':torch.tensor(mask,dtype=torch.long),\n",
        "    }\n",
        "    if (self.task=='train'):\n",
        "\n",
        "      to_return.update({'target':torch.tensor(self.target[item])})\n",
        "\n",
        "    return to_return"
      ],
      "execution_count": 7,
      "outputs": []
    },
    {
      "cell_type": "code",
      "metadata": {
        "id": "UWOQ00A5MPvZ",
        "colab_type": "code",
        "colab": {}
      },
      "source": [
        "def loss_fn(outputs,targets):\n",
        "  criterion =  nn.CrossEntropyLoss()\n",
        "  return criterion(outputs,targets)"
      ],
      "execution_count": 8,
      "outputs": []
    },
    {
      "cell_type": "code",
      "metadata": {
        "id": "vzFhqIRSMSXp",
        "colab_type": "code",
        "colab": {}
      },
      "source": [
        "def train_fn(data_loader,model,optimizer,device,sc=None):\n",
        "  model.train()\n",
        "  tot_loss = 0\n",
        "  for bi, d in enumerate(data_loader):\n",
        "    ids = d['ids']\n",
        "    mask = d['mask']\n",
        "    targets = d['target']\n",
        "\n",
        "    #send them to cuda gpu \n",
        "    ids = ids.to(device,dtype=torch.long)\n",
        "    mask = mask.to(device,dtype=torch.long)\n",
        "   \n",
        "    targets = targets.to(device,dtype=torch.long)\n",
        "    \n",
        "    optimizer.zero_grad()\n",
        "\n",
        "    outputs = model(\n",
        "        ids,\n",
        "        mask,\n",
        "    )\n",
        "    \n",
        "    loss = loss_fn(outputs,targets)\n",
        "    tot_loss += loss.item()\n",
        "    loss.backward()\n",
        "    optimizer.step()\n",
        "    if sc:\n",
        "      sc.step()\n",
        "  \n",
        "  print(\"Training loss for this epoch: \",tot_loss/len(data_loader))"
      ],
      "execution_count": 9,
      "outputs": []
    },
    {
      "cell_type": "code",
      "metadata": {
        "id": "P9nxdacvMWau",
        "colab_type": "code",
        "colab": {}
      },
      "source": [
        "def eval_fn(data_loader,model,device):\n",
        "  model.eval()\n",
        "  fin_targets = []\n",
        "  fin_outputs =[]\n",
        "  tot_loss = 0\n",
        "  with torch.no_grad():\n",
        "    for bi, d in enumerate(data_loader):\n",
        "      ids = d['ids']\n",
        "      mask = d['mask']\n",
        "      \n",
        "      targets = d['target']\n",
        "\n",
        "      #send them to cuda gpu \n",
        "      ids = ids.to(device,dtype=torch.long)\n",
        "      mask = mask.to(device,dtype=torch.long)\n",
        "      \n",
        "     \n",
        "      targets = targets.to(device,dtype=torch.long)\n",
        "      \n",
        "      \n",
        "\n",
        "      outputs = model(\n",
        "          ids,\n",
        "          mask\n",
        "      )\n",
        "\n",
        "      loss = loss_fn(outputs,targets)\n",
        "      tot_loss+=loss.item()\n",
        "      fin_targets.extend(targets.cpu().detach().numpy())\n",
        "      fin_outputs.extend(torch.nn.functional.softmax(outputs).cpu().detach().numpy())\n",
        "  return fin_outputs,fin_targets,tot_loss/(len(data_loader))"
      ],
      "execution_count": 10,
      "outputs": []
    },
    {
      "cell_type": "code",
      "metadata": {
        "id": "K6dRhQreMZFD",
        "colab_type": "code",
        "colab": {}
      },
      "source": [
        "### Prepairing test data\n",
        "test = pd.read_csv('MHTest.csv')\n",
        "test_dataset = BertDataset(\n",
        "    tweet = test.text.values,\n",
        "    task = 'test'\n",
        ")\n",
        "\n",
        "test_data_loader = torch.utils.data.DataLoader(\n",
        "    test_dataset,\n",
        "    batch_size = CONFIG['TRAIN_BATCH_SIZE'],\n",
        "    num_workers = 4\n",
        ")"
      ],
      "execution_count": 11,
      "outputs": []
    },
    {
      "cell_type": "code",
      "metadata": {
        "id": "owlLL77aNOSA",
        "colab_type": "code",
        "colab": {}
      },
      "source": [
        "def predict_fn(model):\n",
        "  fin_outputs = []\n",
        "  with torch.no_grad():\n",
        "    for bi, d in enumerate(test_data_loader):\n",
        "      ids = d['ids']\n",
        "      mask = d['mask']\n",
        "  \n",
        "      #send them to cuda gpu \n",
        "      ids = ids.to(device,dtype=torch.long)\n",
        "      mask = mask.to(device,dtype=torch.long)\n",
        "      \n",
        "     \n",
        "      outputs = model(\n",
        "          ids,\n",
        "          mask\n",
        "      )\n",
        "      fin_outputs.append(torch.nn.functional.softmax(outputs).cpu().detach().numpy())\n",
        "      alls = np.vstack(fin_outputs)\n",
        "\n",
        "  return alls"
      ],
      "execution_count": 12,
      "outputs": []
    },
    {
      "cell_type": "code",
      "metadata": {
        "id": "-0ucnZG_NR_q",
        "colab_type": "code",
        "colab": {}
      },
      "source": [
        "\n",
        "def run_folds():\n",
        "    total_folds=5\n",
        "    all_preds = []\n",
        "    losses = []\n",
        "    seed_all(SEED_VAL)\n",
        "    dfx = pd.read_csv('MHTrain.csv').fillna(\"none\")\n",
        "    dfx['label'] = dfx['label'].factorize()[0]\n",
        "    fold=StratifiedKFold(n_splits=total_folds, shuffle=True)\n",
        "    for i,(train_index, test_index) in enumerate(fold.split(dfx,dfx['label'])):\n",
        "      print(f'FOLD {i+1}/{total_folds}')\n",
        "      df_train = dfx.iloc[train_index]\n",
        "      df_valid = dfx.iloc[test_index]\n",
        "\n",
        "      train_dataset =BertDataset(\n",
        "          tweet=df_train.text.values,\n",
        "          target=df_train.label.values,\n",
        "          task='train'\n",
        "      )\n",
        "\n",
        "      train_data_loader = torch.utils.data.DataLoader(\n",
        "          train_dataset,\n",
        "          batch_size=CONFIG['TRAIN_BATCH_SIZE'],\n",
        "          num_workers=4\n",
        "      )\n",
        "\n",
        "      valid_dataset =BertDataset(\n",
        "          tweet=df_valid.text.values,\n",
        "          target=df_valid.label.values,\n",
        "          task='train'\n",
        "      )\n",
        "\n",
        "      valid_data_loader = torch.utils.data.DataLoader(\n",
        "          valid_dataset,\n",
        "          batch_size=CONFIG['TRAIN_BATCH_SIZE'],\n",
        "          num_workers=1\n",
        "      )\n",
        "\n",
        "      device = torch.device(\"cuda\")\n",
        "      model = CustomBert(4)\n",
        "      model.to(device)\n",
        "      \n",
        "      param_optimizer = list(model.named_parameters())\n",
        "      no_decay = [\"bias\", \"LayerNorm.bias\", \"LayerNorm.weight\"]\n",
        "      optimizer_parameters = [\n",
        "          {'params': [p for n, p in param_optimizer if not any(nd in n for nd in no_decay)], 'weight_decay': 0.001},\n",
        "          {'params': [p for n, p in param_optimizer if any(nd in n for nd in no_decay)], 'weight_decay': 0.0},\n",
        "      ]\n",
        "\n",
        "      num_train_steps = int(len(df_train) / CONFIG['TRAIN_BATCH_SIZE'] * CONFIG['EPOCHS'])\n",
        "      optimizer = AdamW(optimizer_parameters, lr=5e-5)\n",
        "      \n",
        "      #scheduler = get_linear_schedule_with_warmup(optimizer,num_warmup_steps=0,num_training_steps=num_train_steps)\n",
        "\n",
        "\n",
        "      best_accuracy = 0\n",
        "      for epoch in range(CONFIG['EPOCHS']):\n",
        "          print(\"----------------EPOCH \"+str(epoch+1)+\"---------------------\")\n",
        "          train_fn(train_data_loader, model, optimizer, device#scheduler\n",
        "                  )\n",
        "          outputs,targets,losss = eval_fn(valid_data_loader ,model, device)\n",
        "          print(\"LOSS for this Epoc on val: \",losss)\n",
        "      losses.append(losss)\n",
        "      fold_preds = predict_fn(model)\n",
        "      all_preds.append(fold_preds)\n",
        "    print(\"mean losses over all folds: \",np.mean(losses))\n",
        "    return  all_preds"
      ],
      "execution_count": 13,
      "outputs": []
    },
    {
      "cell_type": "code",
      "metadata": {
        "id": "PhKYc-APNhFc",
        "colab_type": "code",
        "colab": {
          "base_uri": "https://localhost:8080/",
          "height": 1000,
          "referenced_widgets": [
            "6ef1cc3ea36648109d025e5fb2847ddb",
            "354176c2805e4a03b7a4722d9761e460",
            "db617f5975d249d4bc5ddaf7b7b0020a",
            "d3697dc6033a4fc896c14f61a429a655",
            "093a319c77e64906b5482a1bf92b0ba3",
            "1183720bd522403f8170fe2c9209d832",
            "16dc223d52a1498cad085043220bd91d",
            "be7c72c173284ee8883c311a31624b36",
            "853d22e0e49a4c5491ebc65f7929d2c4",
            "efb72438e1bc4d98a81136582d2e5f98",
            "c4bf70917eae44e5a85ea1527469ff47",
            "a1fd122437754355a7b472379480d3bb",
            "bf4683c26295444080e126148e685e6b",
            "70d1da62c3cc48fc8568540eca2730da",
            "594b302a6d26443ebb99b28f5ecee5f8",
            "96cd566390a44eca94e76df63bf43885"
          ]
        },
        "outputId": "b2bfa06b-b00d-4e6b-d3ca-d6f9dffcf62c"
      },
      "source": [
        "preds = run_folds()"
      ],
      "execution_count": 14,
      "outputs": [
        {
          "output_type": "stream",
          "text": [
            "FOLD 1/5\n"
          ],
          "name": "stdout"
        },
        {
          "output_type": "display_data",
          "data": {
            "application/vnd.jupyter.widget-view+json": {
              "model_id": "6ef1cc3ea36648109d025e5fb2847ddb",
              "version_minor": 0,
              "version_major": 2
            },
            "text/plain": [
              "HBox(children=(FloatProgress(value=0.0, description='Downloading', max=433.0, style=ProgressStyle(description_…"
            ]
          },
          "metadata": {
            "tags": []
          }
        },
        {
          "output_type": "stream",
          "text": [
            "\n"
          ],
          "name": "stdout"
        },
        {
          "output_type": "display_data",
          "data": {
            "application/vnd.jupyter.widget-view+json": {
              "model_id": "853d22e0e49a4c5491ebc65f7929d2c4",
              "version_minor": 0,
              "version_major": 2
            },
            "text/plain": [
              "HBox(children=(FloatProgress(value=0.0, description='Downloading', max=435779157.0, style=ProgressStyle(descri…"
            ]
          },
          "metadata": {
            "tags": []
          }
        },
        {
          "output_type": "stream",
          "text": [
            "\n",
            "----------------EPOCH 1---------------------\n",
            "Training loss for this epoch:  0.9838885991804062\n"
          ],
          "name": "stdout"
        },
        {
          "output_type": "stream",
          "text": [
            "/usr/local/lib/python3.6/dist-packages/ipykernel_launcher.py:30: UserWarning: Implicit dimension choice for softmax has been deprecated. Change the call to include dim=X as an argument.\n"
          ],
          "name": "stderr"
        },
        {
          "output_type": "stream",
          "text": [
            "LOSS for this Epoc on val:  0.7138821184635162\n",
            "----------------EPOCH 2---------------------\n",
            "Training loss for this epoch:  0.5517459555018333\n",
            "LOSS for this Epoc on val:  0.5269542168825865\n",
            "----------------EPOCH 3---------------------\n",
            "Training loss for this epoch:  0.3307956147097772\n",
            "LOSS for this Epoc on val:  0.42829550988972187\n"
          ],
          "name": "stdout"
        },
        {
          "output_type": "stream",
          "text": [
            "/usr/local/lib/python3.6/dist-packages/ipykernel_launcher.py:17: UserWarning: Implicit dimension choice for softmax has been deprecated. Change the call to include dim=X as an argument.\n"
          ],
          "name": "stderr"
        },
        {
          "output_type": "stream",
          "text": [
            "FOLD 2/5\n",
            "----------------EPOCH 1---------------------\n",
            "Training loss for this epoch:  1.0534869009448635\n",
            "LOSS for this Epoc on val:  0.6819186210632324\n",
            "----------------EPOCH 2---------------------\n",
            "Training loss for this epoch:  0.556378385232341\n",
            "LOSS for this Epoc on val:  0.4192058630287647\n",
            "----------------EPOCH 3---------------------\n",
            "Training loss for this epoch:  0.2735674128897728\n",
            "LOSS for this Epoc on val:  0.4563830839470029\n",
            "FOLD 3/5\n",
            "----------------EPOCH 1---------------------\n",
            "Training loss for this epoch:  1.0688810271601523\n",
            "LOSS for this Epoc on val:  1.0651965141296387\n",
            "----------------EPOCH 2---------------------\n",
            "Training loss for this epoch:  0.5390955286641275\n",
            "LOSS for this Epoc on val:  0.5329511985182762\n",
            "----------------EPOCH 3---------------------\n",
            "Training loss for this epoch:  0.2964496045343338\n",
            "LOSS for this Epoc on val:  0.4817640744149685\n",
            "FOLD 4/5\n",
            "----------------EPOCH 1---------------------\n",
            "Training loss for this epoch:  1.063847440865732\n",
            "LOSS for this Epoc on val:  0.7317350022494793\n",
            "----------------EPOCH 2---------------------\n",
            "Training loss for this epoch:  0.568524323163494\n",
            "LOSS for this Epoc on val:  0.4344169944524765\n",
            "----------------EPOCH 3---------------------\n",
            "Training loss for this epoch:  0.25993307523669734\n",
            "LOSS for this Epoc on val:  0.5197960752993822\n",
            "FOLD 5/5\n",
            "----------------EPOCH 1---------------------\n",
            "Training loss for this epoch:  0.9806507287486907\n",
            "LOSS for this Epoc on val:  0.7243761122226715\n",
            "----------------EPOCH 2---------------------\n",
            "Training loss for this epoch:  0.5485834190922398\n",
            "LOSS for this Epoc on val:  0.5046540983021259\n",
            "----------------EPOCH 3---------------------\n",
            "Training loss for this epoch:  0.40860316974501454\n",
            "LOSS for this Epoc on val:  0.39270670898258686\n",
            "mean losses over all folds:  0.45578909050673244\n"
          ],
          "name": "stdout"
        }
      ]
    },
    {
      "cell_type": "code",
      "metadata": {
        "id": "8BNrUGAaOY-l",
        "colab_type": "code",
        "colab": {}
      },
      "source": [
        "preds_1 = np.mean(preds,axis=0)"
      ],
      "execution_count": 15,
      "outputs": []
    },
    {
      "cell_type": "code",
      "metadata": {
        "id": "TpeJye0bObz1",
        "colab_type": "code",
        "colab": {
          "base_uri": "https://localhost:8080/",
          "height": 206
        },
        "outputId": "e24fd236-7ca4-4633-dc01-1974d860fcd2"
      },
      "source": [
        "sub=pd.DataFrame()\n",
        "sub['ID'] = test['ID']\n",
        "sub['Depression'] = preds_1[:,0]\n",
        "sub['Alcohol'] = preds_1[:,3]\n",
        "sub['Suicide'] = preds_1[:,2]\n",
        "sub['Drugs'] = preds_1[:,1]\n",
        "sub.head()"
      ],
      "execution_count": 16,
      "outputs": [
        {
          "output_type": "execute_result",
          "data": {
            "text/html": [
              "<div>\n",
              "<style scoped>\n",
              "    .dataframe tbody tr th:only-of-type {\n",
              "        vertical-align: middle;\n",
              "    }\n",
              "\n",
              "    .dataframe tbody tr th {\n",
              "        vertical-align: top;\n",
              "    }\n",
              "\n",
              "    .dataframe thead th {\n",
              "        text-align: right;\n",
              "    }\n",
              "</style>\n",
              "<table border=\"1\" class=\"dataframe\">\n",
              "  <thead>\n",
              "    <tr style=\"text-align: right;\">\n",
              "      <th></th>\n",
              "      <th>ID</th>\n",
              "      <th>Depression</th>\n",
              "      <th>Alcohol</th>\n",
              "      <th>Suicide</th>\n",
              "      <th>Drugs</th>\n",
              "    </tr>\n",
              "  </thead>\n",
              "  <tbody>\n",
              "    <tr>\n",
              "      <th>0</th>\n",
              "      <td>02V56KMO</td>\n",
              "      <td>0.532257</td>\n",
              "      <td>0.082992</td>\n",
              "      <td>0.360476</td>\n",
              "      <td>0.024275</td>\n",
              "    </tr>\n",
              "    <tr>\n",
              "      <th>1</th>\n",
              "      <td>03BMGTOK</td>\n",
              "      <td>0.984143</td>\n",
              "      <td>0.003212</td>\n",
              "      <td>0.009787</td>\n",
              "      <td>0.002857</td>\n",
              "    </tr>\n",
              "    <tr>\n",
              "      <th>2</th>\n",
              "      <td>03LZVFM6</td>\n",
              "      <td>0.983973</td>\n",
              "      <td>0.002924</td>\n",
              "      <td>0.010216</td>\n",
              "      <td>0.002888</td>\n",
              "    </tr>\n",
              "    <tr>\n",
              "      <th>3</th>\n",
              "      <td>0EPULUM5</td>\n",
              "      <td>0.982621</td>\n",
              "      <td>0.003684</td>\n",
              "      <td>0.010483</td>\n",
              "      <td>0.003212</td>\n",
              "    </tr>\n",
              "    <tr>\n",
              "      <th>4</th>\n",
              "      <td>0GM4C5GD</td>\n",
              "      <td>0.018825</td>\n",
              "      <td>0.587403</td>\n",
              "      <td>0.035892</td>\n",
              "      <td>0.357880</td>\n",
              "    </tr>\n",
              "  </tbody>\n",
              "</table>\n",
              "</div>"
            ],
            "text/plain": [
              "         ID  Depression   Alcohol   Suicide     Drugs\n",
              "0  02V56KMO    0.532257  0.082992  0.360476  0.024275\n",
              "1  03BMGTOK    0.984143  0.003212  0.009787  0.002857\n",
              "2  03LZVFM6    0.983973  0.002924  0.010216  0.002888\n",
              "3  0EPULUM5    0.982621  0.003684  0.010483  0.003212\n",
              "4  0GM4C5GD    0.018825  0.587403  0.035892  0.357880"
            ]
          },
          "metadata": {
            "tags": []
          },
          "execution_count": 16
        }
      ]
    },
    {
      "cell_type": "code",
      "metadata": {
        "id": "isYe9SFWOeED",
        "colab_type": "code",
        "colab": {}
      },
      "source": [
        "sub.to_csv(\"Bert.csv\", index=False)"
      ],
      "execution_count": 17,
      "outputs": []
    },
    {
      "cell_type": "code",
      "metadata": {
        "id": "pI7XO6eQOjAa",
        "colab_type": "code",
        "colab": {
          "base_uri": "https://localhost:8080/",
          "height": 206
        },
        "outputId": "8db6c08a-d62a-48a1-d2dc-e88c0f067f67"
      },
      "source": [
        "wS = pd.read_csv(\"Bert.csv\")\n",
        "wS.head()"
      ],
      "execution_count": 18,
      "outputs": [
        {
          "output_type": "execute_result",
          "data": {
            "text/html": [
              "<div>\n",
              "<style scoped>\n",
              "    .dataframe tbody tr th:only-of-type {\n",
              "        vertical-align: middle;\n",
              "    }\n",
              "\n",
              "    .dataframe tbody tr th {\n",
              "        vertical-align: top;\n",
              "    }\n",
              "\n",
              "    .dataframe thead th {\n",
              "        text-align: right;\n",
              "    }\n",
              "</style>\n",
              "<table border=\"1\" class=\"dataframe\">\n",
              "  <thead>\n",
              "    <tr style=\"text-align: right;\">\n",
              "      <th></th>\n",
              "      <th>ID</th>\n",
              "      <th>Depression</th>\n",
              "      <th>Alcohol</th>\n",
              "      <th>Suicide</th>\n",
              "      <th>Drugs</th>\n",
              "    </tr>\n",
              "  </thead>\n",
              "  <tbody>\n",
              "    <tr>\n",
              "      <th>0</th>\n",
              "      <td>02V56KMO</td>\n",
              "      <td>0.532257</td>\n",
              "      <td>0.082992</td>\n",
              "      <td>0.360476</td>\n",
              "      <td>0.024275</td>\n",
              "    </tr>\n",
              "    <tr>\n",
              "      <th>1</th>\n",
              "      <td>03BMGTOK</td>\n",
              "      <td>0.984143</td>\n",
              "      <td>0.003212</td>\n",
              "      <td>0.009787</td>\n",
              "      <td>0.002857</td>\n",
              "    </tr>\n",
              "    <tr>\n",
              "      <th>2</th>\n",
              "      <td>03LZVFM6</td>\n",
              "      <td>0.983973</td>\n",
              "      <td>0.002924</td>\n",
              "      <td>0.010216</td>\n",
              "      <td>0.002888</td>\n",
              "    </tr>\n",
              "    <tr>\n",
              "      <th>3</th>\n",
              "      <td>0EPULUM5</td>\n",
              "      <td>0.982622</td>\n",
              "      <td>0.003684</td>\n",
              "      <td>0.010483</td>\n",
              "      <td>0.003212</td>\n",
              "    </tr>\n",
              "    <tr>\n",
              "      <th>4</th>\n",
              "      <td>0GM4C5GD</td>\n",
              "      <td>0.018825</td>\n",
              "      <td>0.587403</td>\n",
              "      <td>0.035892</td>\n",
              "      <td>0.357880</td>\n",
              "    </tr>\n",
              "  </tbody>\n",
              "</table>\n",
              "</div>"
            ],
            "text/plain": [
              "         ID  Depression   Alcohol   Suicide     Drugs\n",
              "0  02V56KMO    0.532257  0.082992  0.360476  0.024275\n",
              "1  03BMGTOK    0.984143  0.003212  0.009787  0.002857\n",
              "2  03LZVFM6    0.983973  0.002924  0.010216  0.002888\n",
              "3  0EPULUM5    0.982622  0.003684  0.010483  0.003212\n",
              "4  0GM4C5GD    0.018825  0.587403  0.035892  0.357880"
            ]
          },
          "metadata": {
            "tags": []
          },
          "execution_count": 18
        }
      ]
    }
  ]
}