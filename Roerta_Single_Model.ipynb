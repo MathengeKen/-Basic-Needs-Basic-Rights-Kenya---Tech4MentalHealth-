{
  "nbformat": 4,
  "nbformat_minor": 0,
  "metadata": {
    "colab": {
      "name": " Mental Health Class Bazed Roberta .ipynb",
      "provenance": [],
      "collapsed_sections": [],
      "toc_visible": true
    },
    "kernelspec": {
      "name": "python3",
      "display_name": "Python 3"
    },
    "accelerator": "GPU",
    "widgets": {
      "application/vnd.jupyter.widget-state+json": {
        "6a04b09e64fd415a863afc2ac3541b18": {
          "model_module": "@jupyter-widgets/controls",
          "model_name": "HBoxModel",
          "state": {
            "_view_name": "HBoxView",
            "_dom_classes": [],
            "_model_name": "HBoxModel",
            "_view_module": "@jupyter-widgets/controls",
            "_model_module_version": "1.5.0",
            "_view_count": null,
            "_view_module_version": "1.5.0",
            "box_style": "",
            "layout": "IPY_MODEL_5089fa4867134a8dbd3ef865cc4e590c",
            "_model_module": "@jupyter-widgets/controls",
            "children": [
              "IPY_MODEL_6cf92065889b4006a045261c8c54c86f",
              "IPY_MODEL_ec8fd5fab4ee4fce9b26163423c6e504"
            ]
          }
        },
        "5089fa4867134a8dbd3ef865cc4e590c": {
          "model_module": "@jupyter-widgets/base",
          "model_name": "LayoutModel",
          "state": {
            "_view_name": "LayoutView",
            "grid_template_rows": null,
            "right": null,
            "justify_content": null,
            "_view_module": "@jupyter-widgets/base",
            "overflow": null,
            "_model_module_version": "1.2.0",
            "_view_count": null,
            "flex_flow": null,
            "width": null,
            "min_width": null,
            "border": null,
            "align_items": null,
            "bottom": null,
            "_model_module": "@jupyter-widgets/base",
            "top": null,
            "grid_column": null,
            "overflow_y": null,
            "overflow_x": null,
            "grid_auto_flow": null,
            "grid_area": null,
            "grid_template_columns": null,
            "flex": null,
            "_model_name": "LayoutModel",
            "justify_items": null,
            "grid_row": null,
            "max_height": null,
            "align_content": null,
            "visibility": null,
            "align_self": null,
            "height": null,
            "min_height": null,
            "padding": null,
            "grid_auto_rows": null,
            "grid_gap": null,
            "max_width": null,
            "order": null,
            "_view_module_version": "1.2.0",
            "grid_template_areas": null,
            "object_position": null,
            "object_fit": null,
            "grid_auto_columns": null,
            "margin": null,
            "display": null,
            "left": null
          }
        },
        "6cf92065889b4006a045261c8c54c86f": {
          "model_module": "@jupyter-widgets/controls",
          "model_name": "FloatProgressModel",
          "state": {
            "_view_name": "ProgressView",
            "style": "IPY_MODEL_ce103bb6e76c452faf6654a102d93de8",
            "_dom_classes": [],
            "description": "Downloading: 100%",
            "_model_name": "FloatProgressModel",
            "bar_style": "success",
            "max": 898823,
            "_view_module": "@jupyter-widgets/controls",
            "_model_module_version": "1.5.0",
            "value": 898823,
            "_view_count": null,
            "_view_module_version": "1.5.0",
            "orientation": "horizontal",
            "min": 0,
            "description_tooltip": null,
            "_model_module": "@jupyter-widgets/controls",
            "layout": "IPY_MODEL_c15f2a77894844ecbb2da240df83a082"
          }
        },
        "ec8fd5fab4ee4fce9b26163423c6e504": {
          "model_module": "@jupyter-widgets/controls",
          "model_name": "HTMLModel",
          "state": {
            "_view_name": "HTMLView",
            "style": "IPY_MODEL_233e32fd450c47f2b2197f84d66cfd7f",
            "_dom_classes": [],
            "description": "",
            "_model_name": "HTMLModel",
            "placeholder": "​",
            "_view_module": "@jupyter-widgets/controls",
            "_model_module_version": "1.5.0",
            "value": " 899k/899k [00:03&lt;00:00, 268kB/s]",
            "_view_count": null,
            "_view_module_version": "1.5.0",
            "description_tooltip": null,
            "_model_module": "@jupyter-widgets/controls",
            "layout": "IPY_MODEL_41f8a0aa214e4973ba154f59ee61edee"
          }
        },
        "ce103bb6e76c452faf6654a102d93de8": {
          "model_module": "@jupyter-widgets/controls",
          "model_name": "ProgressStyleModel",
          "state": {
            "_view_name": "StyleView",
            "_model_name": "ProgressStyleModel",
            "description_width": "initial",
            "_view_module": "@jupyter-widgets/base",
            "_model_module_version": "1.5.0",
            "_view_count": null,
            "_view_module_version": "1.2.0",
            "bar_color": null,
            "_model_module": "@jupyter-widgets/controls"
          }
        },
        "c15f2a77894844ecbb2da240df83a082": {
          "model_module": "@jupyter-widgets/base",
          "model_name": "LayoutModel",
          "state": {
            "_view_name": "LayoutView",
            "grid_template_rows": null,
            "right": null,
            "justify_content": null,
            "_view_module": "@jupyter-widgets/base",
            "overflow": null,
            "_model_module_version": "1.2.0",
            "_view_count": null,
            "flex_flow": null,
            "width": null,
            "min_width": null,
            "border": null,
            "align_items": null,
            "bottom": null,
            "_model_module": "@jupyter-widgets/base",
            "top": null,
            "grid_column": null,
            "overflow_y": null,
            "overflow_x": null,
            "grid_auto_flow": null,
            "grid_area": null,
            "grid_template_columns": null,
            "flex": null,
            "_model_name": "LayoutModel",
            "justify_items": null,
            "grid_row": null,
            "max_height": null,
            "align_content": null,
            "visibility": null,
            "align_self": null,
            "height": null,
            "min_height": null,
            "padding": null,
            "grid_auto_rows": null,
            "grid_gap": null,
            "max_width": null,
            "order": null,
            "_view_module_version": "1.2.0",
            "grid_template_areas": null,
            "object_position": null,
            "object_fit": null,
            "grid_auto_columns": null,
            "margin": null,
            "display": null,
            "left": null
          }
        },
        "233e32fd450c47f2b2197f84d66cfd7f": {
          "model_module": "@jupyter-widgets/controls",
          "model_name": "DescriptionStyleModel",
          "state": {
            "_view_name": "StyleView",
            "_model_name": "DescriptionStyleModel",
            "description_width": "",
            "_view_module": "@jupyter-widgets/base",
            "_model_module_version": "1.5.0",
            "_view_count": null,
            "_view_module_version": "1.2.0",
            "_model_module": "@jupyter-widgets/controls"
          }
        },
        "41f8a0aa214e4973ba154f59ee61edee": {
          "model_module": "@jupyter-widgets/base",
          "model_name": "LayoutModel",
          "state": {
            "_view_name": "LayoutView",
            "grid_template_rows": null,
            "right": null,
            "justify_content": null,
            "_view_module": "@jupyter-widgets/base",
            "overflow": null,
            "_model_module_version": "1.2.0",
            "_view_count": null,
            "flex_flow": null,
            "width": null,
            "min_width": null,
            "border": null,
            "align_items": null,
            "bottom": null,
            "_model_module": "@jupyter-widgets/base",
            "top": null,
            "grid_column": null,
            "overflow_y": null,
            "overflow_x": null,
            "grid_auto_flow": null,
            "grid_area": null,
            "grid_template_columns": null,
            "flex": null,
            "_model_name": "LayoutModel",
            "justify_items": null,
            "grid_row": null,
            "max_height": null,
            "align_content": null,
            "visibility": null,
            "align_self": null,
            "height": null,
            "min_height": null,
            "padding": null,
            "grid_auto_rows": null,
            "grid_gap": null,
            "max_width": null,
            "order": null,
            "_view_module_version": "1.2.0",
            "grid_template_areas": null,
            "object_position": null,
            "object_fit": null,
            "grid_auto_columns": null,
            "margin": null,
            "display": null,
            "left": null
          }
        },
        "746f4601e50241bbb64e69c4f659050a": {
          "model_module": "@jupyter-widgets/controls",
          "model_name": "HBoxModel",
          "state": {
            "_view_name": "HBoxView",
            "_dom_classes": [],
            "_model_name": "HBoxModel",
            "_view_module": "@jupyter-widgets/controls",
            "_model_module_version": "1.5.0",
            "_view_count": null,
            "_view_module_version": "1.5.0",
            "box_style": "",
            "layout": "IPY_MODEL_e5401322d45e4f0d965bc818dc0e9509",
            "_model_module": "@jupyter-widgets/controls",
            "children": [
              "IPY_MODEL_0a0956ad003540d3bc3cf5892b22dcbf",
              "IPY_MODEL_e6787dcd2e2241439a042dfd9a85dbdb"
            ]
          }
        },
        "e5401322d45e4f0d965bc818dc0e9509": {
          "model_module": "@jupyter-widgets/base",
          "model_name": "LayoutModel",
          "state": {
            "_view_name": "LayoutView",
            "grid_template_rows": null,
            "right": null,
            "justify_content": null,
            "_view_module": "@jupyter-widgets/base",
            "overflow": null,
            "_model_module_version": "1.2.0",
            "_view_count": null,
            "flex_flow": null,
            "width": null,
            "min_width": null,
            "border": null,
            "align_items": null,
            "bottom": null,
            "_model_module": "@jupyter-widgets/base",
            "top": null,
            "grid_column": null,
            "overflow_y": null,
            "overflow_x": null,
            "grid_auto_flow": null,
            "grid_area": null,
            "grid_template_columns": null,
            "flex": null,
            "_model_name": "LayoutModel",
            "justify_items": null,
            "grid_row": null,
            "max_height": null,
            "align_content": null,
            "visibility": null,
            "align_self": null,
            "height": null,
            "min_height": null,
            "padding": null,
            "grid_auto_rows": null,
            "grid_gap": null,
            "max_width": null,
            "order": null,
            "_view_module_version": "1.2.0",
            "grid_template_areas": null,
            "object_position": null,
            "object_fit": null,
            "grid_auto_columns": null,
            "margin": null,
            "display": null,
            "left": null
          }
        },
        "0a0956ad003540d3bc3cf5892b22dcbf": {
          "model_module": "@jupyter-widgets/controls",
          "model_name": "FloatProgressModel",
          "state": {
            "_view_name": "ProgressView",
            "style": "IPY_MODEL_9b0a4d328af3458bae6caef875a6e127",
            "_dom_classes": [],
            "description": "Downloading: 100%",
            "_model_name": "FloatProgressModel",
            "bar_style": "success",
            "max": 456318,
            "_view_module": "@jupyter-widgets/controls",
            "_model_module_version": "1.5.0",
            "value": 456318,
            "_view_count": null,
            "_view_module_version": "1.5.0",
            "orientation": "horizontal",
            "min": 0,
            "description_tooltip": null,
            "_model_module": "@jupyter-widgets/controls",
            "layout": "IPY_MODEL_366c6b3e1a7f4c8e810b5b165e22ffc1"
          }
        },
        "e6787dcd2e2241439a042dfd9a85dbdb": {
          "model_module": "@jupyter-widgets/controls",
          "model_name": "HTMLModel",
          "state": {
            "_view_name": "HTMLView",
            "style": "IPY_MODEL_81dd24472de74705841b88fb693f9391",
            "_dom_classes": [],
            "description": "",
            "_model_name": "HTMLModel",
            "placeholder": "​",
            "_view_module": "@jupyter-widgets/controls",
            "_model_module_version": "1.5.0",
            "value": " 456k/456k [00:00&lt;00:00, 534kB/s]",
            "_view_count": null,
            "_view_module_version": "1.5.0",
            "description_tooltip": null,
            "_model_module": "@jupyter-widgets/controls",
            "layout": "IPY_MODEL_6f611501e38b46b2b770dc2fce7f6c19"
          }
        },
        "9b0a4d328af3458bae6caef875a6e127": {
          "model_module": "@jupyter-widgets/controls",
          "model_name": "ProgressStyleModel",
          "state": {
            "_view_name": "StyleView",
            "_model_name": "ProgressStyleModel",
            "description_width": "initial",
            "_view_module": "@jupyter-widgets/base",
            "_model_module_version": "1.5.0",
            "_view_count": null,
            "_view_module_version": "1.2.0",
            "bar_color": null,
            "_model_module": "@jupyter-widgets/controls"
          }
        },
        "366c6b3e1a7f4c8e810b5b165e22ffc1": {
          "model_module": "@jupyter-widgets/base",
          "model_name": "LayoutModel",
          "state": {
            "_view_name": "LayoutView",
            "grid_template_rows": null,
            "right": null,
            "justify_content": null,
            "_view_module": "@jupyter-widgets/base",
            "overflow": null,
            "_model_module_version": "1.2.0",
            "_view_count": null,
            "flex_flow": null,
            "width": null,
            "min_width": null,
            "border": null,
            "align_items": null,
            "bottom": null,
            "_model_module": "@jupyter-widgets/base",
            "top": null,
            "grid_column": null,
            "overflow_y": null,
            "overflow_x": null,
            "grid_auto_flow": null,
            "grid_area": null,
            "grid_template_columns": null,
            "flex": null,
            "_model_name": "LayoutModel",
            "justify_items": null,
            "grid_row": null,
            "max_height": null,
            "align_content": null,
            "visibility": null,
            "align_self": null,
            "height": null,
            "min_height": null,
            "padding": null,
            "grid_auto_rows": null,
            "grid_gap": null,
            "max_width": null,
            "order": null,
            "_view_module_version": "1.2.0",
            "grid_template_areas": null,
            "object_position": null,
            "object_fit": null,
            "grid_auto_columns": null,
            "margin": null,
            "display": null,
            "left": null
          }
        },
        "81dd24472de74705841b88fb693f9391": {
          "model_module": "@jupyter-widgets/controls",
          "model_name": "DescriptionStyleModel",
          "state": {
            "_view_name": "StyleView",
            "_model_name": "DescriptionStyleModel",
            "description_width": "",
            "_view_module": "@jupyter-widgets/base",
            "_model_module_version": "1.5.0",
            "_view_count": null,
            "_view_module_version": "1.2.0",
            "_model_module": "@jupyter-widgets/controls"
          }
        },
        "6f611501e38b46b2b770dc2fce7f6c19": {
          "model_module": "@jupyter-widgets/base",
          "model_name": "LayoutModel",
          "state": {
            "_view_name": "LayoutView",
            "grid_template_rows": null,
            "right": null,
            "justify_content": null,
            "_view_module": "@jupyter-widgets/base",
            "overflow": null,
            "_model_module_version": "1.2.0",
            "_view_count": null,
            "flex_flow": null,
            "width": null,
            "min_width": null,
            "border": null,
            "align_items": null,
            "bottom": null,
            "_model_module": "@jupyter-widgets/base",
            "top": null,
            "grid_column": null,
            "overflow_y": null,
            "overflow_x": null,
            "grid_auto_flow": null,
            "grid_area": null,
            "grid_template_columns": null,
            "flex": null,
            "_model_name": "LayoutModel",
            "justify_items": null,
            "grid_row": null,
            "max_height": null,
            "align_content": null,
            "visibility": null,
            "align_self": null,
            "height": null,
            "min_height": null,
            "padding": null,
            "grid_auto_rows": null,
            "grid_gap": null,
            "max_width": null,
            "order": null,
            "_view_module_version": "1.2.0",
            "grid_template_areas": null,
            "object_position": null,
            "object_fit": null,
            "grid_auto_columns": null,
            "margin": null,
            "display": null,
            "left": null
          }
        },
        "dbed67a6971a42f5a8e38e276f3bbb25": {
          "model_module": "@jupyter-widgets/controls",
          "model_name": "HBoxModel",
          "state": {
            "_view_name": "HBoxView",
            "_dom_classes": [],
            "_model_name": "HBoxModel",
            "_view_module": "@jupyter-widgets/controls",
            "_model_module_version": "1.5.0",
            "_view_count": null,
            "_view_module_version": "1.5.0",
            "box_style": "",
            "layout": "IPY_MODEL_721c0ec41ea84dbda2a4a60532e732da",
            "_model_module": "@jupyter-widgets/controls",
            "children": [
              "IPY_MODEL_c4985ff39997459f9dd417c1f39fd5d2",
              "IPY_MODEL_251dfc9e5a47411088a2f88250c94307"
            ]
          }
        },
        "721c0ec41ea84dbda2a4a60532e732da": {
          "model_module": "@jupyter-widgets/base",
          "model_name": "LayoutModel",
          "state": {
            "_view_name": "LayoutView",
            "grid_template_rows": null,
            "right": null,
            "justify_content": null,
            "_view_module": "@jupyter-widgets/base",
            "overflow": null,
            "_model_module_version": "1.2.0",
            "_view_count": null,
            "flex_flow": null,
            "width": null,
            "min_width": null,
            "border": null,
            "align_items": null,
            "bottom": null,
            "_model_module": "@jupyter-widgets/base",
            "top": null,
            "grid_column": null,
            "overflow_y": null,
            "overflow_x": null,
            "grid_auto_flow": null,
            "grid_area": null,
            "grid_template_columns": null,
            "flex": null,
            "_model_name": "LayoutModel",
            "justify_items": null,
            "grid_row": null,
            "max_height": null,
            "align_content": null,
            "visibility": null,
            "align_self": null,
            "height": null,
            "min_height": null,
            "padding": null,
            "grid_auto_rows": null,
            "grid_gap": null,
            "max_width": null,
            "order": null,
            "_view_module_version": "1.2.0",
            "grid_template_areas": null,
            "object_position": null,
            "object_fit": null,
            "grid_auto_columns": null,
            "margin": null,
            "display": null,
            "left": null
          }
        },
        "c4985ff39997459f9dd417c1f39fd5d2": {
          "model_module": "@jupyter-widgets/controls",
          "model_name": "FloatProgressModel",
          "state": {
            "_view_name": "ProgressView",
            "style": "IPY_MODEL_348bd926c0b14b04895e6f5c1524bc1b",
            "_dom_classes": [],
            "description": "Downloading: 100%",
            "_model_name": "FloatProgressModel",
            "bar_style": "success",
            "max": 481,
            "_view_module": "@jupyter-widgets/controls",
            "_model_module_version": "1.5.0",
            "value": 481,
            "_view_count": null,
            "_view_module_version": "1.5.0",
            "orientation": "horizontal",
            "min": 0,
            "description_tooltip": null,
            "_model_module": "@jupyter-widgets/controls",
            "layout": "IPY_MODEL_263c910abd824ae79d5e8ec92511ff0a"
          }
        },
        "251dfc9e5a47411088a2f88250c94307": {
          "model_module": "@jupyter-widgets/controls",
          "model_name": "HTMLModel",
          "state": {
            "_view_name": "HTMLView",
            "style": "IPY_MODEL_520e30a95f634042ae19ce0e8be1d989",
            "_dom_classes": [],
            "description": "",
            "_model_name": "HTMLModel",
            "placeholder": "​",
            "_view_module": "@jupyter-widgets/controls",
            "_model_module_version": "1.5.0",
            "value": " 481/481 [00:00&lt;00:00, 11.8kB/s]",
            "_view_count": null,
            "_view_module_version": "1.5.0",
            "description_tooltip": null,
            "_model_module": "@jupyter-widgets/controls",
            "layout": "IPY_MODEL_6147adcbb33f4179aa951c9ba26f5c17"
          }
        },
        "348bd926c0b14b04895e6f5c1524bc1b": {
          "model_module": "@jupyter-widgets/controls",
          "model_name": "ProgressStyleModel",
          "state": {
            "_view_name": "StyleView",
            "_model_name": "ProgressStyleModel",
            "description_width": "initial",
            "_view_module": "@jupyter-widgets/base",
            "_model_module_version": "1.5.0",
            "_view_count": null,
            "_view_module_version": "1.2.0",
            "bar_color": null,
            "_model_module": "@jupyter-widgets/controls"
          }
        },
        "263c910abd824ae79d5e8ec92511ff0a": {
          "model_module": "@jupyter-widgets/base",
          "model_name": "LayoutModel",
          "state": {
            "_view_name": "LayoutView",
            "grid_template_rows": null,
            "right": null,
            "justify_content": null,
            "_view_module": "@jupyter-widgets/base",
            "overflow": null,
            "_model_module_version": "1.2.0",
            "_view_count": null,
            "flex_flow": null,
            "width": null,
            "min_width": null,
            "border": null,
            "align_items": null,
            "bottom": null,
            "_model_module": "@jupyter-widgets/base",
            "top": null,
            "grid_column": null,
            "overflow_y": null,
            "overflow_x": null,
            "grid_auto_flow": null,
            "grid_area": null,
            "grid_template_columns": null,
            "flex": null,
            "_model_name": "LayoutModel",
            "justify_items": null,
            "grid_row": null,
            "max_height": null,
            "align_content": null,
            "visibility": null,
            "align_self": null,
            "height": null,
            "min_height": null,
            "padding": null,
            "grid_auto_rows": null,
            "grid_gap": null,
            "max_width": null,
            "order": null,
            "_view_module_version": "1.2.0",
            "grid_template_areas": null,
            "object_position": null,
            "object_fit": null,
            "grid_auto_columns": null,
            "margin": null,
            "display": null,
            "left": null
          }
        },
        "520e30a95f634042ae19ce0e8be1d989": {
          "model_module": "@jupyter-widgets/controls",
          "model_name": "DescriptionStyleModel",
          "state": {
            "_view_name": "StyleView",
            "_model_name": "DescriptionStyleModel",
            "description_width": "",
            "_view_module": "@jupyter-widgets/base",
            "_model_module_version": "1.5.0",
            "_view_count": null,
            "_view_module_version": "1.2.0",
            "_model_module": "@jupyter-widgets/controls"
          }
        },
        "6147adcbb33f4179aa951c9ba26f5c17": {
          "model_module": "@jupyter-widgets/base",
          "model_name": "LayoutModel",
          "state": {
            "_view_name": "LayoutView",
            "grid_template_rows": null,
            "right": null,
            "justify_content": null,
            "_view_module": "@jupyter-widgets/base",
            "overflow": null,
            "_model_module_version": "1.2.0",
            "_view_count": null,
            "flex_flow": null,
            "width": null,
            "min_width": null,
            "border": null,
            "align_items": null,
            "bottom": null,
            "_model_module": "@jupyter-widgets/base",
            "top": null,
            "grid_column": null,
            "overflow_y": null,
            "overflow_x": null,
            "grid_auto_flow": null,
            "grid_area": null,
            "grid_template_columns": null,
            "flex": null,
            "_model_name": "LayoutModel",
            "justify_items": null,
            "grid_row": null,
            "max_height": null,
            "align_content": null,
            "visibility": null,
            "align_self": null,
            "height": null,
            "min_height": null,
            "padding": null,
            "grid_auto_rows": null,
            "grid_gap": null,
            "max_width": null,
            "order": null,
            "_view_module_version": "1.2.0",
            "grid_template_areas": null,
            "object_position": null,
            "object_fit": null,
            "grid_auto_columns": null,
            "margin": null,
            "display": null,
            "left": null
          }
        },
        "69f7b1da70944ea3813cd3fcaa6567f6": {
          "model_module": "@jupyter-widgets/controls",
          "model_name": "HBoxModel",
          "state": {
            "_view_name": "HBoxView",
            "_dom_classes": [],
            "_model_name": "HBoxModel",
            "_view_module": "@jupyter-widgets/controls",
            "_model_module_version": "1.5.0",
            "_view_count": null,
            "_view_module_version": "1.5.0",
            "box_style": "",
            "layout": "IPY_MODEL_2dcb68b31fb442d2aa28861c0779e547",
            "_model_module": "@jupyter-widgets/controls",
            "children": [
              "IPY_MODEL_a993a2562bb54d03aff5d5e1e4d4c887",
              "IPY_MODEL_f92ee93f0ed5489b80f7b2b6bb976f57"
            ]
          }
        },
        "2dcb68b31fb442d2aa28861c0779e547": {
          "model_module": "@jupyter-widgets/base",
          "model_name": "LayoutModel",
          "state": {
            "_view_name": "LayoutView",
            "grid_template_rows": null,
            "right": null,
            "justify_content": null,
            "_view_module": "@jupyter-widgets/base",
            "overflow": null,
            "_model_module_version": "1.2.0",
            "_view_count": null,
            "flex_flow": null,
            "width": null,
            "min_width": null,
            "border": null,
            "align_items": null,
            "bottom": null,
            "_model_module": "@jupyter-widgets/base",
            "top": null,
            "grid_column": null,
            "overflow_y": null,
            "overflow_x": null,
            "grid_auto_flow": null,
            "grid_area": null,
            "grid_template_columns": null,
            "flex": null,
            "_model_name": "LayoutModel",
            "justify_items": null,
            "grid_row": null,
            "max_height": null,
            "align_content": null,
            "visibility": null,
            "align_self": null,
            "height": null,
            "min_height": null,
            "padding": null,
            "grid_auto_rows": null,
            "grid_gap": null,
            "max_width": null,
            "order": null,
            "_view_module_version": "1.2.0",
            "grid_template_areas": null,
            "object_position": null,
            "object_fit": null,
            "grid_auto_columns": null,
            "margin": null,
            "display": null,
            "left": null
          }
        },
        "a993a2562bb54d03aff5d5e1e4d4c887": {
          "model_module": "@jupyter-widgets/controls",
          "model_name": "FloatProgressModel",
          "state": {
            "_view_name": "ProgressView",
            "style": "IPY_MODEL_b1419ced4c6a45b39801fe2b4b4b7ace",
            "_dom_classes": [],
            "description": "Downloading: 100%",
            "_model_name": "FloatProgressModel",
            "bar_style": "success",
            "max": 501200538,
            "_view_module": "@jupyter-widgets/controls",
            "_model_module_version": "1.5.0",
            "value": 501200538,
            "_view_count": null,
            "_view_module_version": "1.5.0",
            "orientation": "horizontal",
            "min": 0,
            "description_tooltip": null,
            "_model_module": "@jupyter-widgets/controls",
            "layout": "IPY_MODEL_65db1fd9a7ed42c08dc4640e3a3bcc33"
          }
        },
        "f92ee93f0ed5489b80f7b2b6bb976f57": {
          "model_module": "@jupyter-widgets/controls",
          "model_name": "HTMLModel",
          "state": {
            "_view_name": "HTMLView",
            "style": "IPY_MODEL_4b8c6284c3ee414c96b89bbdd5b3a5a0",
            "_dom_classes": [],
            "description": "",
            "_model_name": "HTMLModel",
            "placeholder": "​",
            "_view_module": "@jupyter-widgets/controls",
            "_model_module_version": "1.5.0",
            "value": " 501M/501M [00:12&lt;00:00, 39.5MB/s]",
            "_view_count": null,
            "_view_module_version": "1.5.0",
            "description_tooltip": null,
            "_model_module": "@jupyter-widgets/controls",
            "layout": "IPY_MODEL_6aa71539154a49219c8751af86854ba4"
          }
        },
        "b1419ced4c6a45b39801fe2b4b4b7ace": {
          "model_module": "@jupyter-widgets/controls",
          "model_name": "ProgressStyleModel",
          "state": {
            "_view_name": "StyleView",
            "_model_name": "ProgressStyleModel",
            "description_width": "initial",
            "_view_module": "@jupyter-widgets/base",
            "_model_module_version": "1.5.0",
            "_view_count": null,
            "_view_module_version": "1.2.0",
            "bar_color": null,
            "_model_module": "@jupyter-widgets/controls"
          }
        },
        "65db1fd9a7ed42c08dc4640e3a3bcc33": {
          "model_module": "@jupyter-widgets/base",
          "model_name": "LayoutModel",
          "state": {
            "_view_name": "LayoutView",
            "grid_template_rows": null,
            "right": null,
            "justify_content": null,
            "_view_module": "@jupyter-widgets/base",
            "overflow": null,
            "_model_module_version": "1.2.0",
            "_view_count": null,
            "flex_flow": null,
            "width": null,
            "min_width": null,
            "border": null,
            "align_items": null,
            "bottom": null,
            "_model_module": "@jupyter-widgets/base",
            "top": null,
            "grid_column": null,
            "overflow_y": null,
            "overflow_x": null,
            "grid_auto_flow": null,
            "grid_area": null,
            "grid_template_columns": null,
            "flex": null,
            "_model_name": "LayoutModel",
            "justify_items": null,
            "grid_row": null,
            "max_height": null,
            "align_content": null,
            "visibility": null,
            "align_self": null,
            "height": null,
            "min_height": null,
            "padding": null,
            "grid_auto_rows": null,
            "grid_gap": null,
            "max_width": null,
            "order": null,
            "_view_module_version": "1.2.0",
            "grid_template_areas": null,
            "object_position": null,
            "object_fit": null,
            "grid_auto_columns": null,
            "margin": null,
            "display": null,
            "left": null
          }
        },
        "4b8c6284c3ee414c96b89bbdd5b3a5a0": {
          "model_module": "@jupyter-widgets/controls",
          "model_name": "DescriptionStyleModel",
          "state": {
            "_view_name": "StyleView",
            "_model_name": "DescriptionStyleModel",
            "description_width": "",
            "_view_module": "@jupyter-widgets/base",
            "_model_module_version": "1.5.0",
            "_view_count": null,
            "_view_module_version": "1.2.0",
            "_model_module": "@jupyter-widgets/controls"
          }
        },
        "6aa71539154a49219c8751af86854ba4": {
          "model_module": "@jupyter-widgets/base",
          "model_name": "LayoutModel",
          "state": {
            "_view_name": "LayoutView",
            "grid_template_rows": null,
            "right": null,
            "justify_content": null,
            "_view_module": "@jupyter-widgets/base",
            "overflow": null,
            "_model_module_version": "1.2.0",
            "_view_count": null,
            "flex_flow": null,
            "width": null,
            "min_width": null,
            "border": null,
            "align_items": null,
            "bottom": null,
            "_model_module": "@jupyter-widgets/base",
            "top": null,
            "grid_column": null,
            "overflow_y": null,
            "overflow_x": null,
            "grid_auto_flow": null,
            "grid_area": null,
            "grid_template_columns": null,
            "flex": null,
            "_model_name": "LayoutModel",
            "justify_items": null,
            "grid_row": null,
            "max_height": null,
            "align_content": null,
            "visibility": null,
            "align_self": null,
            "height": null,
            "min_height": null,
            "padding": null,
            "grid_auto_rows": null,
            "grid_gap": null,
            "max_width": null,
            "order": null,
            "_view_module_version": "1.2.0",
            "grid_template_areas": null,
            "object_position": null,
            "object_fit": null,
            "grid_auto_columns": null,
            "margin": null,
            "display": null,
            "left": null
          }
        }
      }
    }
  },
  "cells": [
    {
      "cell_type": "code",
      "metadata": {
        "id": "wjrdkm3clM8S",
        "colab_type": "code",
        "colab": {
          "base_uri": "https://localhost:8080/",
          "height": 104
        },
        "outputId": "4fa4e375-5ccf-4970-8a7f-a03ead3c1b18"
      },
      "source": [
        "!pip -q install transformers"
      ],
      "execution_count": 1,
      "outputs": [
        {
          "output_type": "stream",
          "text": [
            "\u001b[K     |████████████████████████████████| 778kB 2.7MB/s \n",
            "\u001b[K     |████████████████████████████████| 3.0MB 12.9MB/s \n",
            "\u001b[K     |████████████████████████████████| 890kB 31.2MB/s \n",
            "\u001b[K     |████████████████████████████████| 1.1MB 35.4MB/s \n",
            "\u001b[?25h  Building wheel for sacremoses (setup.py) ... \u001b[?25l\u001b[?25hdone\n"
          ],
          "name": "stdout"
        }
      ]
    },
    {
      "cell_type": "code",
      "metadata": {
        "id": "Yr9572Y4mrmG",
        "colab_type": "code",
        "colab": {}
      },
      "source": [
        "import torch \n",
        "from transformers import RobertaTokenizer,RobertaModel,get_linear_schedule_with_warmup\n",
        "import transformers \n",
        "import torch\n",
        "import torch.nn as nn \n",
        "import pandas as pd \n",
        "import numpy as np \n",
        "from sklearn import model_selection\n",
        "from sklearn import metrics\n",
        "from transformers import AdamW\n",
        "from sklearn.model_selection import StratifiedKFold\n",
        "import os \n",
        "import random "
      ],
      "execution_count": 2,
      "outputs": []
    },
    {
      "cell_type": "code",
      "metadata": {
        "id": "gUwB64ZZ6NmW",
        "colab_type": "code",
        "colab": {
          "base_uri": "https://localhost:8080/",
          "height": 52
        },
        "outputId": "3fa42392-ac79-4b64-a45c-09858131c5f1"
      },
      "source": [
        "import torch\n",
        "\n",
        "# If there's a GPU available...\n",
        "if torch.cuda.is_available():    \n",
        "\n",
        "    # Tell PyTorch to use the GPU.    \n",
        "    device = torch.device(\"cuda\")\n",
        "\n",
        "    print('There are %d GPU(s) available.' % torch.cuda.device_count())\n",
        "\n",
        "    print('We will use the GPU:', torch.cuda.get_device_name(0))\n",
        "\n",
        "# If not...\n",
        "else:\n",
        "    print('No GPU available, using the CPU instead.')\n",
        "    device = torch.device(\"cpu\")"
      ],
      "execution_count": 3,
      "outputs": [
        {
          "output_type": "stream",
          "text": [
            "There are 1 GPU(s) available.\n",
            "We will use the GPU: Tesla K80\n"
          ],
          "name": "stdout"
        }
      ]
    },
    {
      "cell_type": "code",
      "metadata": {
        "id": "SlAp6n3dl36f",
        "colab_type": "code",
        "colab": {
          "base_uri": "https://localhost:8080/",
          "height": 116,
          "referenced_widgets": [
            "6a04b09e64fd415a863afc2ac3541b18",
            "5089fa4867134a8dbd3ef865cc4e590c",
            "6cf92065889b4006a045261c8c54c86f",
            "ec8fd5fab4ee4fce9b26163423c6e504",
            "ce103bb6e76c452faf6654a102d93de8",
            "c15f2a77894844ecbb2da240df83a082",
            "233e32fd450c47f2b2197f84d66cfd7f",
            "41f8a0aa214e4973ba154f59ee61edee",
            "746f4601e50241bbb64e69c4f659050a",
            "e5401322d45e4f0d965bc818dc0e9509",
            "0a0956ad003540d3bc3cf5892b22dcbf",
            "e6787dcd2e2241439a042dfd9a85dbdb",
            "9b0a4d328af3458bae6caef875a6e127",
            "366c6b3e1a7f4c8e810b5b165e22ffc1",
            "81dd24472de74705841b88fb693f9391",
            "6f611501e38b46b2b770dc2fce7f6c19"
          ]
        },
        "outputId": "e2ce1c59-dc8b-4a4d-844b-f531b8b34465"
      },
      "source": [
        "CONFIG = {\n",
        "    'MAX_LEN':128,\n",
        "    'TRAIN_BATCH_SIZE':16,\n",
        "    'VALID_BATCH_SIZE':16,\n",
        "    'EPOCHS':3,\n",
        "    'TOKENIZER':RobertaTokenizer.from_pretrained('roberta-base',lowercase=True,truncation=True)\n",
        "}"
      ],
      "execution_count": 4,
      "outputs": [
        {
          "output_type": "display_data",
          "data": {
            "application/vnd.jupyter.widget-view+json": {
              "model_id": "6a04b09e64fd415a863afc2ac3541b18",
              "version_minor": 0,
              "version_major": 2
            },
            "text/plain": [
              "HBox(children=(FloatProgress(value=0.0, description='Downloading', max=898823.0, style=ProgressStyle(descripti…"
            ]
          },
          "metadata": {
            "tags": []
          }
        },
        {
          "output_type": "stream",
          "text": [
            "\n"
          ],
          "name": "stdout"
        },
        {
          "output_type": "display_data",
          "data": {
            "application/vnd.jupyter.widget-view+json": {
              "model_id": "746f4601e50241bbb64e69c4f659050a",
              "version_minor": 0,
              "version_major": 2
            },
            "text/plain": [
              "HBox(children=(FloatProgress(value=0.0, description='Downloading', max=456318.0, style=ProgressStyle(descripti…"
            ]
          },
          "metadata": {
            "tags": []
          }
        },
        {
          "output_type": "stream",
          "text": [
            "\n"
          ],
          "name": "stdout"
        }
      ]
    },
    {
      "cell_type": "code",
      "metadata": {
        "id": "XOA5-SXHopDm",
        "colab_type": "code",
        "colab": {}
      },
      "source": [
        "import random\n",
        "from random import randint\n",
        "import numpy as np\n",
        "SEED_VAL  = 1000\n",
        "# Set the seed value all over the place to make this reproducible.\n",
        "def seed_all(SEED):\n",
        "  random.seed(SEED_VAL)\n",
        "  np.random.seed(SEED_VAL)\n",
        "  torch.manual_seed(SEED_VAL)\n",
        "  torch.cuda.manual_seed_all(SEED_VAL)\n",
        "  os.environ['PYTHONHASHSEED'] = str(SEED_VAL)\n",
        "  torch.backends.cudnn.deterministic = True"
      ],
      "execution_count": 5,
      "outputs": []
    },
    {
      "cell_type": "markdown",
      "metadata": {
        "id": "rzcY-pmaWqVb",
        "colab_type": "text"
      },
      "source": [
        "# Modeling"
      ]
    },
    {
      "cell_type": "code",
      "metadata": {
        "id": "ovfA-SKnmD1O",
        "colab_type": "code",
        "colab": {}
      },
      "source": [
        "#Roberta Class \n",
        "class CustomRoberta(nn.Module):\n",
        "    def __init__(self):\n",
        "        super(CustomRoberta, self).__init__()\n",
        "        self.num_labels = 4\n",
        "        self.roberta = transformers.RobertaModel.from_pretrained(\"roberta-base\", output_hidden_states=False, num_labels=self.num_labels)\n",
        "        self.dropout = nn.Dropout(p=0.2)\n",
        "        self.classifier = nn.Linear(768, self.num_labels)\n",
        "\n",
        "    def forward(self,\n",
        "                input_ids=None,\n",
        "                attention_mask=None,\n",
        "                position_ids=None,\n",
        "                head_mask=None,\n",
        "                inputs_embeds=None):\n",
        "\n",
        "        _, o2 = self.roberta(input_ids,\n",
        "                               attention_mask=attention_mask,\n",
        "                               position_ids=position_ids,\n",
        "                               head_mask=head_mask,\n",
        "                               inputs_embeds=inputs_embeds)\n",
        "        o2 = self.dropout(o2)\n",
        "        logits = self.classifier(o2)       \n",
        "        outputs = logits\n",
        "        return outputs"
      ],
      "execution_count": 6,
      "outputs": []
    },
    {
      "cell_type": "code",
      "metadata": {
        "id": "m7bnmf4Ptp2D",
        "colab_type": "code",
        "colab": {}
      },
      "source": [
        "#Dataset \n",
        "\n",
        "class RobertaDataset:\n",
        "  def __init__(self,tweet,target=None,task='train'):\n",
        "    self.tweet= tweet\n",
        "    self.target = target\n",
        "    self.tokenizer = CONFIG['TOKENIZER']\n",
        "    self.max_len = CONFIG['MAX_LEN']\n",
        "    self.task = task\n",
        "  \n",
        "  def __len__(self):\n",
        "    return len(self.tweet)\n",
        "\n",
        "  def __getitem__(self,item):\n",
        "    tweet = str(self.tweet[item])\n",
        "    tweet = ' '.join(tweet.split())\n",
        "\n",
        "\n",
        "    inputs = self.tokenizer.encode_plus(tweet,\n",
        "                                        max_length=self.max_len,\n",
        "                                        pad_to_max_length=True,\n",
        "                                        add_special_tokens=True,\n",
        "                                        truncation=True)\n",
        "    ids = inputs['input_ids']\n",
        "    mask = inputs['attention_mask']\n",
        "    \n",
        "\n",
        "\n",
        "    to_return= {\n",
        "        'ids':torch.tensor(ids,dtype=torch.long),\n",
        "        'mask':torch.tensor(mask,dtype=torch.long),\n",
        "    }\n",
        "    if (self.task=='train'):\n",
        "\n",
        "      to_return.update({'target':torch.tensor(self.target[item])})\n",
        "\n",
        "    return to_return \n"
      ],
      "execution_count": 7,
      "outputs": []
    },
    {
      "cell_type": "code",
      "metadata": {
        "id": "cKIkp0nGxAlQ",
        "colab_type": "code",
        "colab": {}
      },
      "source": [
        "def loss_fn(outputs,targets):\n",
        "  criterion =  nn.CrossEntropyLoss()\n",
        "  return criterion(outputs,targets)"
      ],
      "execution_count": 8,
      "outputs": []
    },
    {
      "cell_type": "code",
      "metadata": {
        "id": "fbHZ-lQqr8T9",
        "colab_type": "code",
        "colab": {}
      },
      "source": [
        "#Train \n",
        "def train_fn(data_loader,model,optimizer,device,sc=None):\n",
        "  model.train()\n",
        "  tot_loss = 0\n",
        "  for bi, d in enumerate(data_loader):\n",
        "    ids = d['ids']\n",
        "    mask = d['mask']\n",
        "    targets = d['target']\n",
        "\n",
        "    #send them to cuda gpu \n",
        "    ids = ids.to(device,dtype=torch.long)\n",
        "    mask = mask.to(device,dtype=torch.long)\n",
        "   \n",
        "    targets = targets.to(device,dtype=torch.long)\n",
        "    \n",
        "    optimizer.zero_grad()\n",
        "\n",
        "    outputs = model(\n",
        "        ids,\n",
        "        mask,\n",
        "    )\n",
        "    \n",
        "    loss = loss_fn(outputs,targets)\n",
        "    tot_loss += loss.item()\n",
        "    loss.backward()\n",
        "    optimizer.step()\n",
        "    if sc:\n",
        "      sc.step()\n",
        "  \n",
        "  print(\"Training loss for this epoch: \",tot_loss/len(data_loader))\n"
      ],
      "execution_count": 9,
      "outputs": []
    },
    {
      "cell_type": "code",
      "metadata": {
        "id": "5FIIVmqFrO2k",
        "colab_type": "code",
        "colab": {}
      },
      "source": [
        "#evaluation function \n",
        "def eval_fn(data_loader,model,device):\n",
        "  model.eval()\n",
        "  fin_targets = []\n",
        "  fin_outputs =[]\n",
        "  tot_loss = 0\n",
        "  with torch.no_grad():\n",
        "    for bi, d in enumerate(data_loader):\n",
        "      ids = d['ids']\n",
        "      mask = d['mask']\n",
        "      \n",
        "      targets = d['target']\n",
        "\n",
        "      #send them to cuda gpu \n",
        "      ids = ids.to(device,dtype=torch.long)\n",
        "      mask = mask.to(device,dtype=torch.long)\n",
        "      \n",
        "     \n",
        "      targets = targets.to(device,dtype=torch.long)\n",
        "      \n",
        "      \n",
        "\n",
        "      outputs = model(\n",
        "          ids,\n",
        "          mask\n",
        "      )\n",
        "\n",
        "      loss = loss_fn(outputs,targets)\n",
        "      tot_loss+=loss.item()\n",
        "      fin_targets.extend(targets.cpu().detach().numpy())\n",
        "      fin_outputs.extend(torch.nn.functional.softmax(outputs).cpu().detach().numpy())\n",
        "  return fin_outputs,fin_targets,tot_loss/(len(data_loader))"
      ],
      "execution_count": 10,
      "outputs": []
    },
    {
      "cell_type": "code",
      "metadata": {
        "id": "bcCGYwFfj_Sq",
        "colab_type": "code",
        "colab": {}
      },
      "source": [
        "#preparing test data\n",
        "test = pd.read_csv('test.csv')\n",
        "test_dataset = RobertaDataset(\n",
        "    tweet=test.text.values,\n",
        "    task='test'\n",
        ")\n",
        "\n",
        "test_data_loader = torch.utils.data.DataLoader(\n",
        "    test_dataset,\n",
        "    batch_size=CONFIG['TRAIN_BATCH_SIZE'],\n",
        "    num_workers=4\n",
        ")"
      ],
      "execution_count": 11,
      "outputs": []
    },
    {
      "cell_type": "code",
      "metadata": {
        "id": "SRpVzEE3IqP3",
        "colab_type": "code",
        "colab": {}
      },
      "source": [
        "#function to predict on the test \n",
        "def predict_fn(model):\n",
        "  fin_outputs = []\n",
        "  with torch.no_grad():\n",
        "    for bi, d in enumerate(test_data_loader):\n",
        "      ids = d['ids']\n",
        "      mask = d['mask']\n",
        "  \n",
        "      #send them to cuda gpu \n",
        "      ids = ids.to(device,dtype=torch.long)\n",
        "      mask = mask.to(device,dtype=torch.long)\n",
        "      \n",
        "     \n",
        "      outputs = model(\n",
        "          ids,\n",
        "          mask\n",
        "      )\n",
        "      fin_outputs.append(torch.nn.functional.softmax(outputs).cpu().detach().numpy())\n",
        "      alls = np.vstack(fin_outputs)\n",
        "\n",
        "  return alls"
      ],
      "execution_count": 12,
      "outputs": []
    },
    {
      "cell_type": "code",
      "metadata": {
        "id": "3C1rBEfvbfZw",
        "colab_type": "code",
        "colab": {}
      },
      "source": [
        "#function to run 5 folds and average their predictions on the test \n",
        "\n",
        "def run_folds():\n",
        "    total_folds=5\n",
        "    all_preds = []\n",
        "    losses = []\n",
        "    seed_all(SEED_VAL)\n",
        "    dfx = pd.read_csv('train.csv').fillna(\"none\")\n",
        "    dfx['label'] = dfx['label'].factorize()[0]\n",
        "    fold=StratifiedKFold(n_splits=total_folds, shuffle=True)\n",
        "    for i,(train_index, test_index) in enumerate(fold.split(dfx,dfx['label'])):\n",
        "      print(f'FOLD {i+1}/{total_folds}')\n",
        "      df_train = dfx.iloc[train_index]\n",
        "      df_valid = dfx.iloc[test_index]\n",
        "\n",
        "      train_dataset =RobertaDataset(\n",
        "          tweet=df_train.text.values,\n",
        "          target=df_train.label.values,\n",
        "          task='train'\n",
        "      )\n",
        "\n",
        "      train_data_loader = torch.utils.data.DataLoader(\n",
        "          train_dataset,\n",
        "          batch_size=CONFIG['TRAIN_BATCH_SIZE'],\n",
        "          num_workers=4\n",
        "      )\n",
        "\n",
        "      valid_dataset =RobertaDataset(\n",
        "          tweet=df_valid.text.values,\n",
        "          target=df_valid.label.values,\n",
        "          task='train'\n",
        "      )\n",
        "\n",
        "      valid_data_loader = torch.utils.data.DataLoader(\n",
        "          valid_dataset,\n",
        "          batch_size=CONFIG['TRAIN_BATCH_SIZE'],\n",
        "          num_workers=1\n",
        "      )\n",
        "\n",
        "      device = torch.device(\"cuda\")\n",
        "      model = CustomRoberta()\n",
        "      model.to(device)\n",
        "      \n",
        "      param_optimizer = list(model.named_parameters())\n",
        "      no_decay = [\"bias\", \"LayerNorm.bias\", \"LayerNorm.weight\"]\n",
        "      optimizer_parameters = [\n",
        "          {'params': [p for n, p in param_optimizer if not any(nd in n for nd in no_decay)], 'weight_decay': 0.001},\n",
        "          {'params': [p for n, p in param_optimizer if any(nd in n for nd in no_decay)], 'weight_decay': 0.0},\n",
        "      ]\n",
        "\n",
        "      num_train_steps = int(len(df_train) / CONFIG['TRAIN_BATCH_SIZE'] * CONFIG['EPOCHS'])\n",
        "      optimizer = AdamW(optimizer_parameters, lr=5e-5)\n",
        "      \n",
        "      #scheduler = get_linear_schedule_with_warmup(optimizer,num_warmup_steps=0,num_training_steps=num_train_steps)\n",
        "\n",
        "\n",
        "      best_accuracy = 0\n",
        "      for epoch in range(CONFIG['EPOCHS']):\n",
        "          print(\"----------------EPOCH \"+str(epoch+1)+\"---------------------\")\n",
        "          train_fn(train_data_loader, model, optimizer, device#scheduler\n",
        "                  )\n",
        "          outputs,targets,losss = eval_fn(valid_data_loader ,model, device)\n",
        "          print(\"LOSS for this Epoc on val: \",losss)\n",
        "      losses.append(losss)\n",
        "      fold_preds = predict_fn(model)\n",
        "      all_preds.append(fold_preds)\n",
        "    print(\"mean losses over all folds: \",np.mean(losses))\n",
        "    return  all_preds\n",
        "       "
      ],
      "execution_count": 13,
      "outputs": []
    },
    {
      "cell_type": "code",
      "metadata": {
        "id": "tOaXCpQlYGb-",
        "colab_type": "code",
        "colab": {
          "base_uri": "https://localhost:8080/",
          "height": 1000,
          "referenced_widgets": [
            "dbed67a6971a42f5a8e38e276f3bbb25",
            "721c0ec41ea84dbda2a4a60532e732da",
            "c4985ff39997459f9dd417c1f39fd5d2",
            "251dfc9e5a47411088a2f88250c94307",
            "348bd926c0b14b04895e6f5c1524bc1b",
            "263c910abd824ae79d5e8ec92511ff0a",
            "520e30a95f634042ae19ce0e8be1d989",
            "6147adcbb33f4179aa951c9ba26f5c17",
            "69f7b1da70944ea3813cd3fcaa6567f6",
            "2dcb68b31fb442d2aa28861c0779e547",
            "a993a2562bb54d03aff5d5e1e4d4c887",
            "f92ee93f0ed5489b80f7b2b6bb976f57",
            "b1419ced4c6a45b39801fe2b4b4b7ace",
            "65db1fd9a7ed42c08dc4640e3a3bcc33",
            "4b8c6284c3ee414c96b89bbdd5b3a5a0",
            "6aa71539154a49219c8751af86854ba4"
          ]
        },
        "outputId": "0a909196-503a-4625-fbda-b272b9ed70a2"
      },
      "source": [
        "preds = run_folds()"
      ],
      "execution_count": 14,
      "outputs": [
        {
          "output_type": "stream",
          "text": [
            "FOLD 1/5\n"
          ],
          "name": "stdout"
        },
        {
          "output_type": "display_data",
          "data": {
            "application/vnd.jupyter.widget-view+json": {
              "model_id": "dbed67a6971a42f5a8e38e276f3bbb25",
              "version_minor": 0,
              "version_major": 2
            },
            "text/plain": [
              "HBox(children=(FloatProgress(value=0.0, description='Downloading', max=481.0, style=ProgressStyle(description_…"
            ]
          },
          "metadata": {
            "tags": []
          }
        },
        {
          "output_type": "stream",
          "text": [
            "\n"
          ],
          "name": "stdout"
        },
        {
          "output_type": "display_data",
          "data": {
            "application/vnd.jupyter.widget-view+json": {
              "model_id": "69f7b1da70944ea3813cd3fcaa6567f6",
              "version_minor": 0,
              "version_major": 2
            },
            "text/plain": [
              "HBox(children=(FloatProgress(value=0.0, description='Downloading', max=501200538.0, style=ProgressStyle(descri…"
            ]
          },
          "metadata": {
            "tags": []
          }
        },
        {
          "output_type": "stream",
          "text": [
            "\n",
            "----------------EPOCH 1---------------------\n",
            "Training loss for this epoch:  1.0138621868625763\n"
          ],
          "name": "stdout"
        },
        {
          "output_type": "stream",
          "text": [
            "/usr/local/lib/python3.6/dist-packages/ipykernel_launcher.py:30: UserWarning: Implicit dimension choice for softmax has been deprecated. Change the call to include dim=X as an argument.\n"
          ],
          "name": "stderr"
        },
        {
          "output_type": "stream",
          "text": [
            "LOSS for this Epoc on val:  0.6021507009863853\n",
            "----------------EPOCH 2---------------------\n",
            "Training loss for this epoch:  0.47367497124979574\n",
            "LOSS for this Epoc on val:  0.3931288029998541\n",
            "----------------EPOCH 3---------------------\n",
            "Training loss for this epoch:  0.2686226394387983\n",
            "LOSS for this Epoc on val:  0.503184124827385\n"
          ],
          "name": "stdout"
        },
        {
          "output_type": "stream",
          "text": [
            "/usr/local/lib/python3.6/dist-packages/ipykernel_launcher.py:20: UserWarning: Implicit dimension choice for softmax has been deprecated. Change the call to include dim=X as an argument.\n"
          ],
          "name": "stderr"
        },
        {
          "output_type": "stream",
          "text": [
            "FOLD 2/5\n",
            "----------------EPOCH 1---------------------\n",
            "Training loss for this epoch:  0.8687958352027401\n",
            "LOSS for this Epoc on val:  0.4276110678911209\n",
            "----------------EPOCH 2---------------------\n",
            "Training loss for this epoch:  0.36442257151488333\n",
            "LOSS for this Epoc on val:  0.31662369705736637\n",
            "----------------EPOCH 3---------------------\n",
            "Training loss for this epoch:  0.23132509810309257\n",
            "LOSS for this Epoc on val:  0.360782029107213\n",
            "FOLD 3/5\n",
            "----------------EPOCH 1---------------------\n",
            "Training loss for this epoch:  0.8311054447004872\n",
            "LOSS for this Epoc on val:  0.55054035410285\n",
            "----------------EPOCH 2---------------------\n",
            "Training loss for this epoch:  0.37999659320039136\n",
            "LOSS for this Epoc on val:  0.4617908578366041\n",
            "----------------EPOCH 3---------------------\n",
            "Training loss for this epoch:  0.24741336270686118\n",
            "LOSS for this Epoc on val:  0.5367231331765652\n",
            "FOLD 4/5\n",
            "----------------EPOCH 1---------------------\n",
            "Training loss for this epoch:  0.9351940578030001\n",
            "LOSS for this Epoc on val:  0.5199091993272305\n",
            "----------------EPOCH 2---------------------\n",
            "Training loss for this epoch:  0.4058777838945389\n",
            "LOSS for this Epoc on val:  0.3411277374252677\n",
            "----------------EPOCH 3---------------------\n",
            "Training loss for this epoch:  0.2014229836002473\n",
            "LOSS for this Epoc on val:  0.42406247090548277\n",
            "FOLD 5/5\n",
            "----------------EPOCH 1---------------------\n",
            "Training loss for this epoch:  1.0789316950305816\n",
            "LOSS for this Epoc on val:  0.7625447064638138\n",
            "----------------EPOCH 2---------------------\n",
            "Training loss for this epoch:  0.5621943387293047\n",
            "LOSS for this Epoc on val:  0.3138278126716614\n",
            "----------------EPOCH 3---------------------\n",
            "Training loss for this epoch:  0.27813782566978085\n",
            "LOSS for this Epoc on val:  0.40346852131187916\n",
            "mean losses over all folds:  0.445644055865705\n"
          ],
          "name": "stdout"
        }
      ]
    },
    {
      "cell_type": "code",
      "metadata": {
        "id": "qRbMMF2bJRWL",
        "colab_type": "code",
        "colab": {}
      },
      "source": [
        "preds_1 = np.mean(preds,axis=0)"
      ],
      "execution_count": 15,
      "outputs": []
    },
    {
      "cell_type": "code",
      "metadata": {
        "id": "lh7-Wp2onR2w",
        "colab_type": "code",
        "colab": {
          "base_uri": "https://localhost:8080/",
          "height": 206
        },
        "outputId": "2097d651-0e6b-49a9-a38d-117253897915"
      },
      "source": [
        "sub=pd.DataFrame()\n",
        "sub['ID'] = test['ID']\n",
        "sub['Depression'] = preds_1[:,0]\n",
        "sub['Alcohol'] = preds_1[:,3]\n",
        "sub['Suicide'] = preds_1[:,2]\n",
        "sub['Drugs'] = preds_1[:,1]\n",
        "sub.head()"
      ],
      "execution_count": 16,
      "outputs": [
        {
          "output_type": "execute_result",
          "data": {
            "text/html": [
              "<div>\n",
              "<style scoped>\n",
              "    .dataframe tbody tr th:only-of-type {\n",
              "        vertical-align: middle;\n",
              "    }\n",
              "\n",
              "    .dataframe tbody tr th {\n",
              "        vertical-align: top;\n",
              "    }\n",
              "\n",
              "    .dataframe thead th {\n",
              "        text-align: right;\n",
              "    }\n",
              "</style>\n",
              "<table border=\"1\" class=\"dataframe\">\n",
              "  <thead>\n",
              "    <tr style=\"text-align: right;\">\n",
              "      <th></th>\n",
              "      <th>ID</th>\n",
              "      <th>Depression</th>\n",
              "      <th>Alcohol</th>\n",
              "      <th>Suicide</th>\n",
              "      <th>Drugs</th>\n",
              "    </tr>\n",
              "  </thead>\n",
              "  <tbody>\n",
              "    <tr>\n",
              "      <th>0</th>\n",
              "      <td>02V56KMO</td>\n",
              "      <td>0.639994</td>\n",
              "      <td>0.087179</td>\n",
              "      <td>0.265698</td>\n",
              "      <td>0.007129</td>\n",
              "    </tr>\n",
              "    <tr>\n",
              "      <th>1</th>\n",
              "      <td>03BMGTOK</td>\n",
              "      <td>0.994833</td>\n",
              "      <td>0.000817</td>\n",
              "      <td>0.003632</td>\n",
              "      <td>0.000717</td>\n",
              "    </tr>\n",
              "    <tr>\n",
              "      <th>2</th>\n",
              "      <td>03LZVFM6</td>\n",
              "      <td>0.995323</td>\n",
              "      <td>0.000801</td>\n",
              "      <td>0.003121</td>\n",
              "      <td>0.000755</td>\n",
              "    </tr>\n",
              "    <tr>\n",
              "      <th>3</th>\n",
              "      <td>0EPULUM5</td>\n",
              "      <td>0.994547</td>\n",
              "      <td>0.000784</td>\n",
              "      <td>0.003973</td>\n",
              "      <td>0.000696</td>\n",
              "    </tr>\n",
              "    <tr>\n",
              "      <th>4</th>\n",
              "      <td>0GM4C5GD</td>\n",
              "      <td>0.004244</td>\n",
              "      <td>0.303252</td>\n",
              "      <td>0.006641</td>\n",
              "      <td>0.685863</td>\n",
              "    </tr>\n",
              "  </tbody>\n",
              "</table>\n",
              "</div>"
            ],
            "text/plain": [
              "         ID  Depression   Alcohol   Suicide     Drugs\n",
              "0  02V56KMO    0.639994  0.087179  0.265698  0.007129\n",
              "1  03BMGTOK    0.994833  0.000817  0.003632  0.000717\n",
              "2  03LZVFM6    0.995323  0.000801  0.003121  0.000755\n",
              "3  0EPULUM5    0.994547  0.000784  0.003973  0.000696\n",
              "4  0GM4C5GD    0.004244  0.303252  0.006641  0.685863"
            ]
          },
          "metadata": {
            "tags": []
          },
          "execution_count": 16
        }
      ]
    },
    {
      "cell_type": "code",
      "metadata": {
        "id": "OlqJ9Iarn0BA",
        "colab_type": "code",
        "colab": {}
      },
      "source": [
        "sub.to_csv(\"Roberta_Winning_Solution.csv\",index=False)"
      ],
      "execution_count": 17,
      "outputs": []
    },
    {
      "cell_type": "code",
      "metadata": {
        "id": "fHLIerK5RVUk",
        "colab_type": "code",
        "colab": {}
      },
      "source": [
        ""
      ],
      "execution_count": null,
      "outputs": []
    }
  ]
}