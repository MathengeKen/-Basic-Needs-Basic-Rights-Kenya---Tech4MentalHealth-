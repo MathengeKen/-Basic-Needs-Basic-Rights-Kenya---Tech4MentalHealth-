{
  "nbformat": 4,
  "nbformat_minor": 0,
  "metadata": {
    "colab": {
      "name": "tech4mental(bert)0.ipynb",
      "provenance": [],
      "collapsed_sections": [],
      "authorship_tag": "ABX9TyPUuCmJKOZX6Q/F2HlP3Vxn",
      "include_colab_link": true
    },
    "kernelspec": {
      "name": "python3",
      "display_name": "Python 3"
    },
    "accelerator": "GPU"
  },
  "cells": [
    {
      "cell_type": "markdown",
      "metadata": {
        "id": "view-in-github",
        "colab_type": "text"
      },
      "source": [
        "<a href=\"https://colab.research.google.com/github/MathengeKen/-Basic-Needs-Basic-Rights-Kenya---Tech4MentalHealth-/blob/master/tech4mental(bert)0.ipynb\" target=\"_parent\"><img src=\"https://colab.research.google.com/assets/colab-badge.svg\" alt=\"Open In Colab\"/></a>"
      ]
    },
    {
      "cell_type": "code",
      "metadata": {
        "id": "J_-sEYzVz8iW",
        "colab_type": "code",
        "colab": {
          "base_uri": "https://localhost:8080/",
          "height": 386
        },
        "outputId": "29bff8c6-5f6b-4ef8-80f1-cc4f88310900"
      },
      "source": [
        "!pip install transformers"
      ],
      "execution_count": 1,
      "outputs": [
        {
          "output_type": "stream",
          "text": [
            "Requirement already satisfied: transformers in /usr/local/lib/python3.6/dist-packages (3.0.2)\n",
            "Requirement already satisfied: sacremoses in /usr/local/lib/python3.6/dist-packages (from transformers) (0.0.43)\n",
            "Requirement already satisfied: tqdm>=4.27 in /usr/local/lib/python3.6/dist-packages (from transformers) (4.41.1)\n",
            "Requirement already satisfied: packaging in /usr/local/lib/python3.6/dist-packages (from transformers) (20.4)\n",
            "Requirement already satisfied: numpy in /usr/local/lib/python3.6/dist-packages (from transformers) (1.18.5)\n",
            "Requirement already satisfied: filelock in /usr/local/lib/python3.6/dist-packages (from transformers) (3.0.12)\n",
            "Requirement already satisfied: sentencepiece!=0.1.92 in /usr/local/lib/python3.6/dist-packages (from transformers) (0.1.91)\n",
            "Requirement already satisfied: dataclasses; python_version < \"3.7\" in /usr/local/lib/python3.6/dist-packages (from transformers) (0.7)\n",
            "Requirement already satisfied: regex!=2019.12.17 in /usr/local/lib/python3.6/dist-packages (from transformers) (2019.12.20)\n",
            "Requirement already satisfied: requests in /usr/local/lib/python3.6/dist-packages (from transformers) (2.23.0)\n",
            "Requirement already satisfied: tokenizers==0.8.1.rc1 in /usr/local/lib/python3.6/dist-packages (from transformers) (0.8.1rc1)\n",
            "Requirement already satisfied: six in /usr/local/lib/python3.6/dist-packages (from sacremoses->transformers) (1.15.0)\n",
            "Requirement already satisfied: joblib in /usr/local/lib/python3.6/dist-packages (from sacremoses->transformers) (0.16.0)\n",
            "Requirement already satisfied: click in /usr/local/lib/python3.6/dist-packages (from sacremoses->transformers) (7.1.2)\n",
            "Requirement already satisfied: pyparsing>=2.0.2 in /usr/local/lib/python3.6/dist-packages (from packaging->transformers) (2.4.7)\n",
            "Requirement already satisfied: certifi>=2017.4.17 in /usr/local/lib/python3.6/dist-packages (from requests->transformers) (2020.6.20)\n",
            "Requirement already satisfied: urllib3!=1.25.0,!=1.25.1,<1.26,>=1.21.1 in /usr/local/lib/python3.6/dist-packages (from requests->transformers) (1.24.3)\n",
            "Requirement already satisfied: idna<3,>=2.5 in /usr/local/lib/python3.6/dist-packages (from requests->transformers) (2.10)\n",
            "Requirement already satisfied: chardet<4,>=3.0.2 in /usr/local/lib/python3.6/dist-packages (from requests->transformers) (3.0.4)\n"
          ],
          "name": "stdout"
        }
      ]
    },
    {
      "cell_type": "code",
      "metadata": {
        "id": "oQMksv-e0nuj",
        "colab_type": "code",
        "colab": {}
      },
      "source": [
        "import torch \n",
        "from transformers import BertTokenizer, BertModel, get_linear_schedule_with_warmup\n",
        "import transformers \n",
        "import torch\n",
        "from torch.utils.data import Dataset, DataLoader\n",
        "import torch.nn as nn \n",
        "import pandas as pd \n",
        "import numpy as np \n",
        "from sklearn import model_selection\n",
        "from sklearn.model_selection import train_test_split\n",
        "from sklearn import metrics\n",
        "from transformers import AdamW\n",
        "from sklearn.model_selection import StratifiedKFold\n",
        "import os \n",
        "import random\n",
        "from collections import defaultdict"
      ],
      "execution_count": 2,
      "outputs": []
    },
    {
      "cell_type": "code",
      "metadata": {
        "id": "N0TGpl6i1G9V",
        "colab_type": "code",
        "colab": {}
      },
      "source": [
        "import torch\n",
        "\n",
        "if torch.cuda.is_available():\n",
        "  device = torch.device(\"cuda\")\n",
        "else:\n",
        "  device = torch.device(\"cpu\")"
      ],
      "execution_count": 3,
      "outputs": []
    },
    {
      "cell_type": "code",
      "metadata": {
        "id": "V39Aq8e21NPt",
        "colab_type": "code",
        "colab": {}
      },
      "source": [
        "CONFIG = {\n",
        "    'MAX_LEN':128,\n",
        "    'TRAIN_BATCH_SIZE':16,\n",
        "    'VALID_BATCH_SIZE':16,\n",
        "    'EPOCHS':3,\n",
        "    'TOKENIZER':BertTokenizer.from_pretrained('bert-base-cased')\n",
        "}"
      ],
      "execution_count": 4,
      "outputs": []
    },
    {
      "cell_type": "code",
      "metadata": {
        "id": "aTCGIGS91avK",
        "colab_type": "code",
        "colab": {}
      },
      "source": [
        "import random\n",
        "from random import randint\n",
        "import numpy as np\n",
        "SEED_VAL  = 1000\n",
        "# Set the seed value all over the place to make this reproducible.\n",
        "def seed_all(SEED):\n",
        "  random.seed(SEED_VAL)\n",
        "  np.random.seed(SEED_VAL)\n",
        "  torch.manual_seed(SEED_VAL)\n",
        "  torch.cuda.manual_seed_all(SEED_VAL)\n",
        "  os.environ['PYTHONHASHSEED'] = str(SEED_VAL)\n",
        "  torch.backends.cudnn.deterministic = True"
      ],
      "execution_count": 5,
      "outputs": []
    },
    {
      "cell_type": "code",
      "metadata": {
        "id": "j20A6kN85WuZ",
        "colab_type": "code",
        "colab": {}
      },
      "source": [
        "class CustomBert(nn.Module):\n",
        "  def __init__(self, n_classes):\n",
        "    super(CustomBert, self).__init__()\n",
        "    self.bert = BertModel.from_pretrained('bert-base-cased')\n",
        "    self.drop = nn.Dropout(p=0.3)\n",
        "    self.out = nn.Linear(self.bert.config.hidden_size, n_classes)\n",
        "\n",
        "  def forward(self, input_ids, attention_mask):\n",
        "    _, pooled_output = self.bert(\n",
        "        input_ids = input_ids,\n",
        "        attention_mask = attention_mask\n",
        "    )\n",
        "\n",
        "    output = self.drop(pooled_output)\n",
        "    return self.out(output)"
      ],
      "execution_count": 6,
      "outputs": []
    },
    {
      "cell_type": "code",
      "metadata": {
        "id": "63sV1Zqc1DVZ",
        "colab_type": "code",
        "colab": {}
      },
      "source": [
        "class BertDataset():\n",
        "  def __init__(self,text,label,task):\n",
        "    self.text = text\n",
        "    self.label = label\n",
        "    self.tokenizer = CONFIG['TOKENIZER']\n",
        "    self.max_len = CONFIG['MAX_LEN']\n",
        "    self.task = task\n",
        "\n",
        "  def __len__(self):\n",
        "    return len(self.text)\n",
        "\n",
        "  def __getitem__(self, item):\n",
        "    text = str(self.text[item])\n",
        "    label = self.label[item]\n",
        "\n",
        "    encoding = self.tokenizer.encode_plus(\n",
        "        text, \n",
        "        add_special_tokens = True,\n",
        "        max_length = self.max_len,\n",
        "        return_token_type_ids = False,\n",
        "        pad_to_max_length = True,\n",
        "        return_attention_mask = True,\n",
        "        return_tensors ='pt',\n",
        "        truncation = True\n",
        "    )\n",
        "\n",
        "    to_return= {\n",
        "        'text':text,\n",
        "        'input_ids':encoding['input_ids'].flatten(),\n",
        "        'attention_mask':encoding['attention_mask'].flatten()\n",
        "    }\n",
        "\n",
        "    if (self.task == 'train'):\n",
        "      to_return.update({'label':torch.tensor(label, dtype=torch.long)})\n",
        "\n",
        "    return to_return"
      ],
      "execution_count": 7,
      "outputs": []
    },
    {
      "cell_type": "code",
      "metadata": {
        "id": "AmVATREE4Xgh",
        "colab_type": "code",
        "colab": {}
      },
      "source": [
        "def loss_fn(outputs, label):\n",
        "  criterion = nn.CrossEntropyLoss()\n",
        "  return criterion(outputs, label)"
      ],
      "execution_count": 8,
      "outputs": []
    },
    {
      "cell_type": "code",
      "metadata": {
        "id": "yvP6rVJH5JFo",
        "colab_type": "code",
        "colab": {}
      },
      "source": [
        "def train_fn(model,\n",
        "             dataloader,\n",
        "             optimizer,\n",
        "             device,\n",
        "             scheduler):\n",
        "  model = model.train()\n",
        "  \n",
        "  losses =[]\n",
        "  correct_predictions = 0\n",
        "\n",
        "  for d in dataloader:\n",
        "    input_ids = d[\"input_ids\"].to(device, dtype=torch.long)\n",
        "    attention_mask = d[\"attention_mask\"].to(device, dtype=torch.long)\n",
        "    label = d[\"label\"].to(device)\n",
        "\n",
        "    outputs = model(\n",
        "        input_ids = input_ids,\n",
        "        attention_mask = attention_mask\n",
        "    )\n",
        "\n",
        "    _, preds = torch.max(outputs, dim=1)\n",
        "    loss = loss_fn(outputs, label)\n",
        "    loss = int(loss)\n",
        "    losses += loss\n",
        "\n",
        "    correct_predictions += torch.sum(preds == label)\n",
        "\n",
        "    loss.backward()\n",
        "    nn.utils.clip_grad_norm_(model.parameters(), max_norm=1.0)\n",
        "    optimizer.step()\n",
        "    scheduler.step()\n",
        "    optimizer.zero_grad()\n",
        "\n",
        "    #accuracy = correct_predictions.double()/n_examples\n",
        "  return losses/len(dataloader)"
      ],
      "execution_count": 15,
      "outputs": []
    },
    {
      "cell_type": "code",
      "metadata": {
        "id": "XrZRWiCo8KVC",
        "colab_type": "code",
        "colab": {}
      },
      "source": [
        "def eval_fn(model, dataloader,device):\n",
        "  model = model.eval()\n",
        "\n",
        "  losses = []\n",
        "  correct_predictions = 0\n",
        "\n",
        "  with torch.no_grad():\n",
        "    for d in dataloader:\n",
        "      input_ids = d[\"input_ids\"].to(device, dtype=torch.long)\n",
        "      attention_mask = d[\"attention_mask\"].to(device, dtype=torch.long)\n",
        "      label = d[\"label\"].to(device, dtype=torch.long)\n",
        "\n",
        "      outputs = model(\n",
        "        input_ids=input_ids,\n",
        "        attention_mask=attention_mask\n",
        "      )\n",
        "      _, preds = torch.max(outputs, dim=1)\n",
        "      \n",
        "\n",
        "      loss = loss_fn(outputs, label)\n",
        "      loss = int(loss)\n",
        "\n",
        "      correct_predictions += torch.sum(preds == label)\n",
        "      losses += loss\n",
        "\n",
        "  return losses/len(dataloader)"
      ],
      "execution_count": 16,
      "outputs": []
    },
    {
      "cell_type": "code",
      "metadata": {
        "id": "Fv2qgKbpe9rw",
        "colab_type": "code",
        "colab": {}
      },
      "source": [
        "def predict_fn(model, dataloader):\n",
        "  final_outputs = []\n",
        "  with torch.no_grad():\n",
        "    for d in dataloader:\n",
        "      input_ids = d[\"input_ids\"].to(device, dtype=torch.long)\n",
        "      attention_mask = d[\"attention_mask\"].to(device, dtype=torch.long)\n",
        "      label = d[\"label\"].to(device)\n",
        "\n",
        "      outputs = model(\n",
        "        input_ids=input_ids,\n",
        "        attention_mask=attention_mask\n",
        "      )\n",
        "      \n",
        "      final_outputs.append(torch.nn.functional.softmax(outputs).cpu().detach().numpy())\n",
        "      alls = np.vstack(final_outputs)\n",
        "  return alls"
      ],
      "execution_count": 17,
      "outputs": []
    },
    {
      "cell_type": "code",
      "metadata": {
        "id": "ORRXBQAYkKSS",
        "colab_type": "code",
        "colab": {}
      },
      "source": [
        "### Prepairing test data\n",
        "test = pd.read_csv('MHTest.csv')\n",
        "test_dataset = BertDataset(\n",
        "        text = test.text.values,\n",
        "        label = None,\n",
        "        task = 'predict')\n",
        "\n",
        "test_dataloader = torch.utils.data.DataLoader(\n",
        "    test_dataset,\n",
        "    batch_size = CONFIG['TRAIN_BATCH_SIZE'],\n",
        "    num_workers = 4\n",
        ")"
      ],
      "execution_count": 18,
      "outputs": []
    },
    {
      "cell_type": "code",
      "metadata": {
        "id": "N6bWe-4798kx",
        "colab_type": "code",
        "colab": {}
      },
      "source": [
        "def run_folds():\n",
        "  total_folds =5\n",
        "  preds = []\n",
        "  losses = []\n",
        "  seed_all(SEED_VAL)\n",
        "  df = pd.read_csv('MHTrain.csv').fillna('NONE')\n",
        "  df['label'] = df['label'].factorize()[0]\n",
        "  fold = StratifiedKFold(n_splits = total_folds, shuffle=True)\n",
        "  for i, (train_index, test_index) in enumerate(fold.split(df, df['label'])):\n",
        "    print (f'FOLD {i+1}/{total_folds}')\n",
        "    df_train = df.iloc[train_index]\n",
        "    df_valid = df.iloc[test_index]\n",
        "\n",
        "    train_dataset = BertDataset(\n",
        "        text = df_train.text.values,\n",
        "        label = df_train.label.values,\n",
        "        task = 'train'\n",
        "    )\n",
        "\n",
        "    train_dataloader = torch.utils.data.DataLoader(\n",
        "        train_dataset,\n",
        "        batch_size = CONFIG['TRAIN_BATCH_SIZE'],\n",
        "        num_workers = 4\n",
        "    )\n",
        "\n",
        "    valid_dataset = BertDataset(\n",
        "        text = df_valid.text.values,\n",
        "        label = df_valid.label.values,\n",
        "        task = 'train'\n",
        "    )\n",
        "\n",
        "    valid_dataloader = torch.utils.data.DataLoader(\n",
        "        valid_dataset,\n",
        "        batch_size = CONFIG['TRAIN_BATCH_SIZE'],\n",
        "        num_workers = 4\n",
        "    )\n",
        "\n",
        "    device = torch.device(\"cuda\")\n",
        "    model = CustomBert(4)\n",
        "    model.to(device)\n",
        "    \n",
        "    optimizer = AdamW(model.parameters(), lr=2e-5, correct_bias=False)\n",
        "    total_steps = int(len(df_train) / CONFIG['TRAIN_BATCH_SIZE'])\n",
        "\n",
        "    scheduler = get_linear_schedule_with_warmup(\n",
        "      optimizer,\n",
        "      num_warmup_steps=0,\n",
        "      num_training_steps=total_steps\n",
        "    )\n",
        "\n",
        "    %%time\n",
        "    history = defaultdict(list)\n",
        "    best_accuracy = 0\n",
        "\n",
        "    for epoch in range(CONFIG['EPOCHS']):\n",
        "        print(\"----------------EPOCH \"+str(epoch+1)+\"---------------------\")\n",
        "        train_loss = train_fn(model, train_dataloader, optimizer, device, scheduler)\n",
        "        eval_loss = eval_fn(model, valid_dataloader , device)\n",
        "        print(\"TRAIN_LOSS for this Epoch:\", train_loss)\n",
        "        print(\"EVAL_LOSS for this Epoch:\",eval_loss)\n",
        "\n",
        "        #history['train_acc'].append(train_acc)\n",
        "        #history['train_loss'].append(train_loss)\n",
        "        #history['val_acc'].append(val_acc)\n",
        "        #history['val_loss'].append(val_loss)\n",
        "\n",
        "        #if val_acc > best_accuracy:\n",
        "          #torch.save(model.state_dict(), 'best_model_state.bin')\n",
        "          #best_accuracy = val_acc\n",
        "\n",
        "\n",
        "    losses.append(eval_loss)\n",
        "    fold_preds = predict_fn(model, test_dataloader)\n",
        "    all_preds.append(fold_preds)\n",
        "    print(\"mean losses over all folds: \",np.mean(losses))\n",
        "    return  all_preds"
      ],
      "execution_count": 19,
      "outputs": []
    },
    {
      "cell_type": "code",
      "metadata": {
        "id": "YiWNoycl8rwT",
        "colab_type": "code",
        "colab": {
          "base_uri": "https://localhost:8080/",
          "height": 417
        },
        "outputId": "146a37f4-2edc-4769-e6fb-15d3e5b5d81e"
      },
      "source": [
        "preds = run_folds()"
      ],
      "execution_count": 20,
      "outputs": [
        {
          "output_type": "stream",
          "text": [
            "FOLD 1/5\n",
            "CPU times: user 2 µs, sys: 0 ns, total: 2 µs\n",
            "Wall time: 5.72 µs\n",
            "----------------EPOCH 1---------------------\n"
          ],
          "name": "stdout"
        },
        {
          "output_type": "error",
          "ename": "TypeError",
          "evalue": "ignored",
          "traceback": [
            "\u001b[0;31m---------------------------------------------------------------------------\u001b[0m",
            "\u001b[0;31mTypeError\u001b[0m                                 Traceback (most recent call last)",
            "\u001b[0;32m<ipython-input-20-bcb2abc856d6>\u001b[0m in \u001b[0;36m<module>\u001b[0;34m()\u001b[0m\n\u001b[0;32m----> 1\u001b[0;31m \u001b[0mpreds\u001b[0m \u001b[0;34m=\u001b[0m \u001b[0mrun_folds\u001b[0m\u001b[0;34m(\u001b[0m\u001b[0;34m)\u001b[0m\u001b[0;34m\u001b[0m\u001b[0;34m\u001b[0m\u001b[0m\n\u001b[0m",
            "\u001b[0;32m<ipython-input-19-9c807eaa05e6>\u001b[0m in \u001b[0;36mrun_folds\u001b[0;34m()\u001b[0m\n\u001b[1;32m     55\u001b[0m     \u001b[0;32mfor\u001b[0m \u001b[0mepoch\u001b[0m \u001b[0;32min\u001b[0m \u001b[0mrange\u001b[0m\u001b[0;34m(\u001b[0m\u001b[0mCONFIG\u001b[0m\u001b[0;34m[\u001b[0m\u001b[0;34m'EPOCHS'\u001b[0m\u001b[0;34m]\u001b[0m\u001b[0;34m)\u001b[0m\u001b[0;34m:\u001b[0m\u001b[0;34m\u001b[0m\u001b[0;34m\u001b[0m\u001b[0m\n\u001b[1;32m     56\u001b[0m         \u001b[0mprint\u001b[0m\u001b[0;34m(\u001b[0m\u001b[0;34m\"----------------EPOCH \"\u001b[0m\u001b[0;34m+\u001b[0m\u001b[0mstr\u001b[0m\u001b[0;34m(\u001b[0m\u001b[0mepoch\u001b[0m\u001b[0;34m+\u001b[0m\u001b[0;36m1\u001b[0m\u001b[0;34m)\u001b[0m\u001b[0;34m+\u001b[0m\u001b[0;34m\"---------------------\"\u001b[0m\u001b[0;34m)\u001b[0m\u001b[0;34m\u001b[0m\u001b[0;34m\u001b[0m\u001b[0m\n\u001b[0;32m---> 57\u001b[0;31m         \u001b[0mtrain_loss\u001b[0m \u001b[0;34m=\u001b[0m \u001b[0mtrain_fn\u001b[0m\u001b[0;34m(\u001b[0m\u001b[0mmodel\u001b[0m\u001b[0;34m,\u001b[0m \u001b[0mtrain_dataloader\u001b[0m\u001b[0;34m,\u001b[0m \u001b[0moptimizer\u001b[0m\u001b[0;34m,\u001b[0m \u001b[0mdevice\u001b[0m\u001b[0;34m,\u001b[0m \u001b[0mscheduler\u001b[0m\u001b[0;34m)\u001b[0m\u001b[0;34m\u001b[0m\u001b[0;34m\u001b[0m\u001b[0m\n\u001b[0m\u001b[1;32m     58\u001b[0m         \u001b[0meval_loss\u001b[0m \u001b[0;34m=\u001b[0m \u001b[0meval_fn\u001b[0m\u001b[0;34m(\u001b[0m\u001b[0mmodel\u001b[0m\u001b[0;34m,\u001b[0m \u001b[0mvalid_dataloader\u001b[0m \u001b[0;34m,\u001b[0m \u001b[0mdevice\u001b[0m\u001b[0;34m)\u001b[0m\u001b[0;34m\u001b[0m\u001b[0;34m\u001b[0m\u001b[0m\n\u001b[1;32m     59\u001b[0m         \u001b[0mprint\u001b[0m\u001b[0;34m(\u001b[0m\u001b[0;34m\"TRAIN_LOSS for this Epoch:\"\u001b[0m\u001b[0;34m,\u001b[0m \u001b[0mtrain_loss\u001b[0m\u001b[0;34m)\u001b[0m\u001b[0;34m\u001b[0m\u001b[0;34m\u001b[0m\u001b[0m\n",
            "\u001b[0;32m<ipython-input-15-f4f022e01475>\u001b[0m in \u001b[0;36mtrain_fn\u001b[0;34m(model, dataloader, optimizer, device, scheduler)\u001b[0m\n\u001b[1;32m     22\u001b[0m     \u001b[0mloss\u001b[0m \u001b[0;34m=\u001b[0m \u001b[0mloss_fn\u001b[0m\u001b[0;34m(\u001b[0m\u001b[0moutputs\u001b[0m\u001b[0;34m,\u001b[0m \u001b[0mlabel\u001b[0m\u001b[0;34m)\u001b[0m\u001b[0;34m\u001b[0m\u001b[0;34m\u001b[0m\u001b[0m\n\u001b[1;32m     23\u001b[0m     \u001b[0mloss\u001b[0m \u001b[0;34m=\u001b[0m \u001b[0mint\u001b[0m\u001b[0;34m(\u001b[0m\u001b[0mloss\u001b[0m\u001b[0;34m)\u001b[0m\u001b[0;34m\u001b[0m\u001b[0;34m\u001b[0m\u001b[0m\n\u001b[0;32m---> 24\u001b[0;31m     \u001b[0mlosses\u001b[0m \u001b[0;34m+=\u001b[0m \u001b[0mloss\u001b[0m\u001b[0;34m\u001b[0m\u001b[0;34m\u001b[0m\u001b[0m\n\u001b[0m\u001b[1;32m     25\u001b[0m \u001b[0;34m\u001b[0m\u001b[0m\n\u001b[1;32m     26\u001b[0m     \u001b[0mcorrect_predictions\u001b[0m \u001b[0;34m+=\u001b[0m \u001b[0mtorch\u001b[0m\u001b[0;34m.\u001b[0m\u001b[0msum\u001b[0m\u001b[0;34m(\u001b[0m\u001b[0mpreds\u001b[0m \u001b[0;34m==\u001b[0m \u001b[0mlabel\u001b[0m\u001b[0;34m)\u001b[0m\u001b[0;34m\u001b[0m\u001b[0;34m\u001b[0m\u001b[0m\n",
            "\u001b[0;31mTypeError\u001b[0m: 'int' object is not iterable"
          ]
        }
      ]
    },
    {
      "cell_type": "code",
      "metadata": {
        "id": "G20LhHaWc4tr",
        "colab_type": "code",
        "colab": {}
      },
      "source": [
        "preds_1 = np.mean(preds,axis=0)"
      ],
      "execution_count": null,
      "outputs": []
    },
    {
      "cell_type": "code",
      "metadata": {
        "id": "0dJVBkSjc6b9",
        "colab_type": "code",
        "colab": {}
      },
      "source": [
        "sub=pd.DataFrame()\n",
        "sub['ID'] = test['ID']\n",
        "sub['Depression'] = preds_1[:,0]\n",
        "sub['Alcohol'] = preds_1[:,3]\n",
        "sub['Suicide'] = preds_1[:,2]\n",
        "sub['Drugs'] = preds_1[:,1]\n",
        "sub.head()"
      ],
      "execution_count": null,
      "outputs": []
    },
    {
      "cell_type": "code",
      "metadata": {
        "id": "bkdIw2NhhlL5",
        "colab_type": "code",
        "colab": {}
      },
      "source": [
        "sub.to_csv(\"Bert1.csv\", index=False)"
      ],
      "execution_count": null,
      "outputs": []
    }
  ]
}